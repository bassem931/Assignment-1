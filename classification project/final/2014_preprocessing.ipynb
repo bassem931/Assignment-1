{
  "cells": [
    {
      "cell_type": "code",
      "execution_count": 100,
      "metadata": {
        "id": "rtIFmCCqIu1U"
      },
      "outputs": [],
      "source": [
        "import matplotlib.pyplot as plt\n",
        "from datetime import datetime\n",
        "import seaborn as sns\n",
        "import pandas as pd\n",
        "import numpy as np\n",
        "import math\n",
        "from sklearn.preprocessing import MinMaxScaler\n",
        "from sklearn.neighbors import LocalOutlierFactor\n",
        "from sklearn import preprocessing\n",
        "from scipy import stats\n",
        "from tqdm import tqdm"
      ]
    },
    {
      "cell_type": "code",
      "execution_count": 101,
      "metadata": {
        "id": "_ywe6u5vV1L1"
      },
      "outputs": [],
      "source": [
        "year = \"2014\""
      ]
    },
    {
      "cell_type": "code",
      "execution_count": 102,
      "metadata": {
        "colab": {
          "base_uri": "https://localhost:8080/",
          "height": 418
        },
        "id": "l09-2eL0Mdno",
        "outputId": "6abcc785-09ba-46eb-a3df-85c02a67b048"
      },
      "outputs": [
        {
          "data": {
            "text/html": [
              "<div>\n",
              "<style scoped>\n",
              "    .dataframe tbody tr th:only-of-type {\n",
              "        vertical-align: middle;\n",
              "    }\n",
              "\n",
              "    .dataframe tbody tr th {\n",
              "        vertical-align: top;\n",
              "    }\n",
              "\n",
              "    .dataframe thead th {\n",
              "        text-align: right;\n",
              "    }\n",
              "</style>\n",
              "<table border=\"1\" class=\"dataframe\">\n",
              "  <thead>\n",
              "    <tr style=\"text-align: right;\">\n",
              "      <th></th>\n",
              "      <th>accident_index</th>\n",
              "      <th>accident_year</th>\n",
              "      <th>location_easting_osgr</th>\n",
              "      <th>location_northing_osgr</th>\n",
              "      <th>longitude</th>\n",
              "      <th>latitude</th>\n",
              "      <th>police_force</th>\n",
              "      <th>accident_severity</th>\n",
              "      <th>number_of_vehicles</th>\n",
              "      <th>number_of_casualties</th>\n",
              "      <th>...</th>\n",
              "      <th>pedestrian_crossing_physical_facilities</th>\n",
              "      <th>light_conditions</th>\n",
              "      <th>weather_conditions</th>\n",
              "      <th>road_surface_conditions</th>\n",
              "      <th>special_conditions_at_site</th>\n",
              "      <th>carriageway_hazards</th>\n",
              "      <th>urban_or_rural_area</th>\n",
              "      <th>did_police_officer_attend_scene_of_accident</th>\n",
              "      <th>trunk_road_flag</th>\n",
              "      <th>lsoa_of_accident_location</th>\n",
              "    </tr>\n",
              "    <tr>\n",
              "      <th>accident_reference</th>\n",
              "      <th></th>\n",
              "      <th></th>\n",
              "      <th></th>\n",
              "      <th></th>\n",
              "      <th></th>\n",
              "      <th></th>\n",
              "      <th></th>\n",
              "      <th></th>\n",
              "      <th></th>\n",
              "      <th></th>\n",
              "      <th></th>\n",
              "      <th></th>\n",
              "      <th></th>\n",
              "      <th></th>\n",
              "      <th></th>\n",
              "      <th></th>\n",
              "      <th></th>\n",
              "      <th></th>\n",
              "      <th></th>\n",
              "      <th></th>\n",
              "      <th></th>\n",
              "    </tr>\n",
              "  </thead>\n",
              "  <tbody>\n",
              "    <tr>\n",
              "      <th>01BS70001</th>\n",
              "      <td>201401BS70001</td>\n",
              "      <td>2014</td>\n",
              "      <td>524600</td>\n",
              "      <td>179020</td>\n",
              "      <td>-0.206443</td>\n",
              "      <td>51.496345</td>\n",
              "      <td>Metropolitan Police</td>\n",
              "      <td>Slight</td>\n",
              "      <td>2</td>\n",
              "      <td>1</td>\n",
              "      <td>...</td>\n",
              "      <td>No physical crossing facilities within 50 metres</td>\n",
              "      <td>Daylight</td>\n",
              "      <td>Raining no high winds</td>\n",
              "      <td>Wet or damp</td>\n",
              "      <td>None</td>\n",
              "      <td>None</td>\n",
              "      <td>Urban</td>\n",
              "      <td>No</td>\n",
              "      <td>Non-trunk</td>\n",
              "      <td>E01002814</td>\n",
              "    </tr>\n",
              "    <tr>\n",
              "      <th>01BS70002</th>\n",
              "      <td>201401BS70002</td>\n",
              "      <td>2014</td>\n",
              "      <td>525780</td>\n",
              "      <td>178290</td>\n",
              "      <td>-0.189713</td>\n",
              "      <td>51.489523</td>\n",
              "      <td>Metropolitan Police</td>\n",
              "      <td>Slight</td>\n",
              "      <td>2</td>\n",
              "      <td>1</td>\n",
              "      <td>...</td>\n",
              "      <td>Pedestrian phase at traffic signal junction</td>\n",
              "      <td>Darkness - lighting unknown</td>\n",
              "      <td>Fine no high winds</td>\n",
              "      <td>Dry</td>\n",
              "      <td>None</td>\n",
              "      <td>None</td>\n",
              "      <td>Urban</td>\n",
              "      <td>No</td>\n",
              "      <td>Non-trunk</td>\n",
              "      <td>E01002894</td>\n",
              "    </tr>\n",
              "    <tr>\n",
              "      <th>01BS70003</th>\n",
              "      <td>201401BS70003</td>\n",
              "      <td>2014</td>\n",
              "      <td>526880</td>\n",
              "      <td>178430</td>\n",
              "      <td>-0.173827</td>\n",
              "      <td>51.490536</td>\n",
              "      <td>Metropolitan Police</td>\n",
              "      <td>Slight</td>\n",
              "      <td>2</td>\n",
              "      <td>1</td>\n",
              "      <td>...</td>\n",
              "      <td>No physical crossing facilities within 50 metres</td>\n",
              "      <td>Daylight</td>\n",
              "      <td>Fine no high winds</td>\n",
              "      <td>Dry</td>\n",
              "      <td>None</td>\n",
              "      <td>None</td>\n",
              "      <td>Urban</td>\n",
              "      <td>Yes</td>\n",
              "      <td>Non-trunk</td>\n",
              "      <td>E01002822</td>\n",
              "    </tr>\n",
              "    <tr>\n",
              "      <th>01BS70004</th>\n",
              "      <td>201401BS70004</td>\n",
              "      <td>2014</td>\n",
              "      <td>525580</td>\n",
              "      <td>179080</td>\n",
              "      <td>-0.192311</td>\n",
              "      <td>51.496668</td>\n",
              "      <td>Metropolitan Police</td>\n",
              "      <td>Slight</td>\n",
              "      <td>1</td>\n",
              "      <td>1</td>\n",
              "      <td>...</td>\n",
              "      <td>Zebra</td>\n",
              "      <td>Darkness - lights lit</td>\n",
              "      <td>Fine no high winds</td>\n",
              "      <td>Dry</td>\n",
              "      <td>None</td>\n",
              "      <td>None</td>\n",
              "      <td>Urban</td>\n",
              "      <td>No</td>\n",
              "      <td>Non-trunk</td>\n",
              "      <td>E01002812</td>\n",
              "    </tr>\n",
              "    <tr>\n",
              "      <th>01BS70006</th>\n",
              "      <td>201401BS70006</td>\n",
              "      <td>2014</td>\n",
              "      <td>527040</td>\n",
              "      <td>179030</td>\n",
              "      <td>-0.171308</td>\n",
              "      <td>51.495892</td>\n",
              "      <td>Metropolitan Police</td>\n",
              "      <td>Slight</td>\n",
              "      <td>2</td>\n",
              "      <td>1</td>\n",
              "      <td>...</td>\n",
              "      <td>Central refuge</td>\n",
              "      <td>Daylight</td>\n",
              "      <td>Fine no high winds</td>\n",
              "      <td>Dry</td>\n",
              "      <td>None</td>\n",
              "      <td>None</td>\n",
              "      <td>Urban</td>\n",
              "      <td>Yes</td>\n",
              "      <td>Non-trunk</td>\n",
              "      <td>E01002821</td>\n",
              "    </tr>\n",
              "  </tbody>\n",
              "</table>\n",
              "<p>5 rows × 35 columns</p>\n",
              "</div>"
            ],
            "text/plain": [
              "                   accident_index  accident_year  location_easting_osgr  \\\n",
              "accident_reference                                                        \n",
              "01BS70001           201401BS70001           2014                 524600   \n",
              "01BS70002           201401BS70002           2014                 525780   \n",
              "01BS70003           201401BS70003           2014                 526880   \n",
              "01BS70004           201401BS70004           2014                 525580   \n",
              "01BS70006           201401BS70006           2014                 527040   \n",
              "\n",
              "                    location_northing_osgr  longitude   latitude  \\\n",
              "accident_reference                                                 \n",
              "01BS70001                           179020  -0.206443  51.496345   \n",
              "01BS70002                           178290  -0.189713  51.489523   \n",
              "01BS70003                           178430  -0.173827  51.490536   \n",
              "01BS70004                           179080  -0.192311  51.496668   \n",
              "01BS70006                           179030  -0.171308  51.495892   \n",
              "\n",
              "                           police_force accident_severity  number_of_vehicles  \\\n",
              "accident_reference                                                              \n",
              "01BS70001           Metropolitan Police            Slight                   2   \n",
              "01BS70002           Metropolitan Police            Slight                   2   \n",
              "01BS70003           Metropolitan Police            Slight                   2   \n",
              "01BS70004           Metropolitan Police            Slight                   1   \n",
              "01BS70006           Metropolitan Police            Slight                   2   \n",
              "\n",
              "                    number_of_casualties  ...  \\\n",
              "accident_reference                        ...   \n",
              "01BS70001                              1  ...   \n",
              "01BS70002                              1  ...   \n",
              "01BS70003                              1  ...   \n",
              "01BS70004                              1  ...   \n",
              "01BS70006                              1  ...   \n",
              "\n",
              "                             pedestrian_crossing_physical_facilities  \\\n",
              "accident_reference                                                     \n",
              "01BS70001           No physical crossing facilities within 50 metres   \n",
              "01BS70002                Pedestrian phase at traffic signal junction   \n",
              "01BS70003           No physical crossing facilities within 50 metres   \n",
              "01BS70004                                                      Zebra   \n",
              "01BS70006                                             Central refuge   \n",
              "\n",
              "                               light_conditions     weather_conditions  \\\n",
              "accident_reference                                                       \n",
              "01BS70001                              Daylight  Raining no high winds   \n",
              "01BS70002           Darkness - lighting unknown     Fine no high winds   \n",
              "01BS70003                              Daylight     Fine no high winds   \n",
              "01BS70004                 Darkness - lights lit     Fine no high winds   \n",
              "01BS70006                              Daylight     Fine no high winds   \n",
              "\n",
              "                   road_surface_conditions special_conditions_at_site  \\\n",
              "accident_reference                                                      \n",
              "01BS70001                      Wet or damp                       None   \n",
              "01BS70002                              Dry                       None   \n",
              "01BS70003                              Dry                       None   \n",
              "01BS70004                              Dry                       None   \n",
              "01BS70006                              Dry                       None   \n",
              "\n",
              "                   carriageway_hazards urban_or_rural_area  \\\n",
              "accident_reference                                           \n",
              "01BS70001                         None               Urban   \n",
              "01BS70002                         None               Urban   \n",
              "01BS70003                         None               Urban   \n",
              "01BS70004                         None               Urban   \n",
              "01BS70006                         None               Urban   \n",
              "\n",
              "                   did_police_officer_attend_scene_of_accident  \\\n",
              "accident_reference                                               \n",
              "01BS70001                                                   No   \n",
              "01BS70002                                                   No   \n",
              "01BS70003                                                  Yes   \n",
              "01BS70004                                                   No   \n",
              "01BS70006                                                  Yes   \n",
              "\n",
              "                   trunk_road_flag  lsoa_of_accident_location  \n",
              "accident_reference                                             \n",
              "01BS70001                Non-trunk                  E01002814  \n",
              "01BS70002                Non-trunk                  E01002894  \n",
              "01BS70003                Non-trunk                  E01002822  \n",
              "01BS70004                Non-trunk                  E01002812  \n",
              "01BS70006                Non-trunk                  E01002821  \n",
              "\n",
              "[5 rows x 35 columns]"
            ]
          },
          "execution_count": 102,
          "metadata": {},
          "output_type": "execute_result"
        }
      ],
      "source": [
        "dataset_path = '2014_Accidents_UK.csv'\n",
        "output_path_csv = 'clean_2014_test.csv'\n",
        "df= pd.read_csv(dataset_path,index_col=2)\n",
        "df.head()"
      ]
    },
    {
      "cell_type": "code",
      "execution_count": 103,
      "metadata": {
        "colab": {
          "base_uri": "https://localhost:8080/",
          "height": 364
        },
        "id": "cy9NKZZaPxZT",
        "outputId": "8e8cc372-734b-4826-bc85-70da387b5eb5"
      },
      "outputs": [
        {
          "data": {
            "text/html": [
              "<div>\n",
              "<style scoped>\n",
              "    .dataframe tbody tr th:only-of-type {\n",
              "        vertical-align: middle;\n",
              "    }\n",
              "\n",
              "    .dataframe tbody tr th {\n",
              "        vertical-align: top;\n",
              "    }\n",
              "\n",
              "    .dataframe thead th {\n",
              "        text-align: right;\n",
              "    }\n",
              "</style>\n",
              "<table border=\"1\" class=\"dataframe\">\n",
              "  <thead>\n",
              "    <tr style=\"text-align: right;\">\n",
              "      <th></th>\n",
              "      <th>accident_year</th>\n",
              "      <th>location_easting_osgr</th>\n",
              "      <th>location_northing_osgr</th>\n",
              "      <th>longitude</th>\n",
              "      <th>latitude</th>\n",
              "      <th>number_of_vehicles</th>\n",
              "      <th>number_of_casualties</th>\n",
              "      <th>speed_limit</th>\n",
              "    </tr>\n",
              "  </thead>\n",
              "  <tbody>\n",
              "    <tr>\n",
              "      <th>count</th>\n",
              "      <td>146322.0</td>\n",
              "      <td>146322.000000</td>\n",
              "      <td>1.463220e+05</td>\n",
              "      <td>146322.000000</td>\n",
              "      <td>146322.000000</td>\n",
              "      <td>146322.000000</td>\n",
              "      <td>146322.000000</td>\n",
              "      <td>146322.000000</td>\n",
              "    </tr>\n",
              "    <tr>\n",
              "      <th>mean</th>\n",
              "      <td>2014.0</td>\n",
              "      <td>447029.362475</td>\n",
              "      <td>2.903741e+05</td>\n",
              "      <td>-1.328712</td>\n",
              "      <td>52.500882</td>\n",
              "      <td>1.835179</td>\n",
              "      <td>1.329103</td>\n",
              "      <td>38.238611</td>\n",
              "    </tr>\n",
              "    <tr>\n",
              "      <th>std</th>\n",
              "      <td>0.0</td>\n",
              "      <td>95158.326674</td>\n",
              "      <td>1.578227e+05</td>\n",
              "      <td>1.397358</td>\n",
              "      <td>1.421337</td>\n",
              "      <td>0.700208</td>\n",
              "      <td>0.857469</td>\n",
              "      <td>13.850167</td>\n",
              "    </tr>\n",
              "    <tr>\n",
              "      <th>min</th>\n",
              "      <td>2014.0</td>\n",
              "      <td>70951.000000</td>\n",
              "      <td>1.030400e+04</td>\n",
              "      <td>-7.450342</td>\n",
              "      <td>49.913077</td>\n",
              "      <td>1.000000</td>\n",
              "      <td>1.000000</td>\n",
              "      <td>20.000000</td>\n",
              "    </tr>\n",
              "    <tr>\n",
              "      <th>25%</th>\n",
              "      <td>2014.0</td>\n",
              "      <td>384364.250000</td>\n",
              "      <td>1.765900e+05</td>\n",
              "      <td>-2.235527</td>\n",
              "      <td>51.474928</td>\n",
              "      <td>1.000000</td>\n",
              "      <td>1.000000</td>\n",
              "      <td>30.000000</td>\n",
              "    </tr>\n",
              "    <tr>\n",
              "      <th>50%</th>\n",
              "      <td>2014.0</td>\n",
              "      <td>451306.000000</td>\n",
              "      <td>2.416200e+05</td>\n",
              "      <td>-1.238819</td>\n",
              "      <td>52.055124</td>\n",
              "      <td>2.000000</td>\n",
              "      <td>1.000000</td>\n",
              "      <td>30.000000</td>\n",
              "    </tr>\n",
              "    <tr>\n",
              "      <th>75%</th>\n",
              "      <td>2014.0</td>\n",
              "      <td>526830.000000</td>\n",
              "      <td>3.911760e+05</td>\n",
              "      <td>-0.170586</td>\n",
              "      <td>53.414623</td>\n",
              "      <td>2.000000</td>\n",
              "      <td>1.000000</td>\n",
              "      <td>40.000000</td>\n",
              "    </tr>\n",
              "    <tr>\n",
              "      <th>max</th>\n",
              "      <td>2014.0</td>\n",
              "      <td>655309.000000</td>\n",
              "      <td>1.190858e+06</td>\n",
              "      <td>1.758797</td>\n",
              "      <td>60.597984</td>\n",
              "      <td>21.000000</td>\n",
              "      <td>93.000000</td>\n",
              "      <td>70.000000</td>\n",
              "    </tr>\n",
              "  </tbody>\n",
              "</table>\n",
              "</div>"
            ],
            "text/plain": [
              "       accident_year  location_easting_osgr  location_northing_osgr  \\\n",
              "count       146322.0          146322.000000            1.463220e+05   \n",
              "mean          2014.0          447029.362475            2.903741e+05   \n",
              "std              0.0           95158.326674            1.578227e+05   \n",
              "min           2014.0           70951.000000            1.030400e+04   \n",
              "25%           2014.0          384364.250000            1.765900e+05   \n",
              "50%           2014.0          451306.000000            2.416200e+05   \n",
              "75%           2014.0          526830.000000            3.911760e+05   \n",
              "max           2014.0          655309.000000            1.190858e+06   \n",
              "\n",
              "           longitude       latitude  number_of_vehicles  number_of_casualties  \\\n",
              "count  146322.000000  146322.000000       146322.000000         146322.000000   \n",
              "mean       -1.328712      52.500882            1.835179              1.329103   \n",
              "std         1.397358       1.421337            0.700208              0.857469   \n",
              "min        -7.450342      49.913077            1.000000              1.000000   \n",
              "25%        -2.235527      51.474928            1.000000              1.000000   \n",
              "50%        -1.238819      52.055124            2.000000              1.000000   \n",
              "75%        -0.170586      53.414623            2.000000              1.000000   \n",
              "max         1.758797      60.597984           21.000000             93.000000   \n",
              "\n",
              "         speed_limit  \n",
              "count  146322.000000  \n",
              "mean       38.238611  \n",
              "std        13.850167  \n",
              "min        20.000000  \n",
              "25%        30.000000  \n",
              "50%        30.000000  \n",
              "75%        40.000000  \n",
              "max        70.000000  "
            ]
          },
          "execution_count": 103,
          "metadata": {},
          "output_type": "execute_result"
        }
      ],
      "source": [
        "df.describe()"
      ]
    },
    {
      "cell_type": "code",
      "execution_count": 104,
      "metadata": {
        "id": "-tDoiGORj871"
      },
      "outputs": [],
      "source": [
        "cols_drop_csv=[]\n",
        "def add_to_col_drop(col):\n",
        "  cols_drop_csv.append(col)"
      ]
    },
    {
      "cell_type": "code",
      "execution_count": 105,
      "metadata": {
        "id": "VcWowHtNnfS4"
      },
      "outputs": [],
      "source": [
        "def show_values(axs, orient=\"v\", round = 1,space=.01):\n",
        "    format = '{:.'+str(round)+'f}'\n",
        "    def _single(ax):\n",
        "        if orient == \"v\":\n",
        "            for p in ax.patches:\n",
        "                _x = p.get_x() + p.get_width() / 2\n",
        "                _y = p.get_y() + p.get_height() + (p.get_height()*0.01)\n",
        "                value = format.format(p.get_height())\n",
        "                ax.text(_x, _y, value, ha=\"center\") \n",
        "        elif orient == \"h\":\n",
        "            for p in ax.patches:\n",
        "                _x = p.get_x() + p.get_width() + float(space)\n",
        "                _y = p.get_y() + p.get_height() - (p.get_height()*0.5)\n",
        "                value = format.format(p.get_width())\n",
        "                ax.text(_x, _y, value, ha=\"left\")\n",
        "\n",
        "    if isinstance(axs, np.ndarray):\n",
        "        for idx, ax in np.ndenumerate(axs):\n",
        "            _single(ax)\n",
        "    else:\n",
        "        _single(axs)"
      ]
    },
    {
      "cell_type": "code",
      "execution_count": 106,
      "metadata": {
        "id": "Iqj_mvrodccK"
      },
      "outputs": [],
      "source": [
        "def countEachCategory(col):\n",
        "  allCategories = col.unique();\n",
        "  res={}\n",
        "  for cat in allCategories:\n",
        "    res[str(cat)]=0\n",
        "  for val in col:\n",
        "    res[str(val)] = res[str(val)]+1\n",
        "  return res"
      ]
    },
    {
      "cell_type": "code",
      "execution_count": 107,
      "metadata": {
        "id": "mRn2fBeWdhnV"
      },
      "outputs": [],
      "source": [
        "def percentOfCategories(col,fun=countEachCategory,r=1):\n",
        "  countDict = fun(col)\n",
        "  sumAll = len(col)\n",
        "  for cat in countDict:\n",
        "    countDict[cat] = round((countDict[cat]/sumAll)*100, r)\n",
        "  return countDict"
      ]
    },
    {
      "cell_type": "code",
      "execution_count": 108,
      "metadata": {
        "id": "o5aJEMLZxOPF"
      },
      "outputs": [],
      "source": [
        "def convertDictTo2DList(dictOfRelation,yVal):\n",
        "  res = []\n",
        "  for d in dictOfRelation:\n",
        "    temp =[]\n",
        "    for y in yVal :\n",
        "      temp.append(dictOfRelation[d][str(y)])\n",
        "    res.append(temp)\n",
        "  return res"
      ]
    },
    {
      "cell_type": "code",
      "execution_count": 109,
      "metadata": {
        "id": "DR-hvmZOxjKL"
      },
      "outputs": [],
      "source": [
        "def getDictOfListsOfTwoFeatures(df, feature1 , feature2,r=3,convertArray=False):\n",
        "  xValues = df[feature2].unique()\n",
        "  yValues = df[feature1].unique()\n",
        "  dictOfRelation ={}\n",
        "  for x in xValues:\n",
        "    dictOfRelation[str(x)]=[]\n",
        "  for x in xValues:\n",
        "    perDict = percentOfCategories(df[df[feature2]==x][feature1],r=r)\n",
        "    for y in yValues:\n",
        "      if not(str(y) in perDict.keys()):\n",
        "        perDict[str(y)]= 0\n",
        "    dictOfRelation[x] = perDict\n",
        "  if convertArray:\n",
        "    dictOfRelationdictOfRelation = np.array(convertDictTo2DList(dictOfRelation))\n",
        "  for i in range (0,len(xValues)):\n",
        "    xValues[i] = str(xValues[i])\n",
        "  for i in range (0,len(yValues)):\n",
        "    yValues[i] = str(yValues[i])\n",
        "  return dictOfRelation,xValues,yValues"
      ]
    },
    {
      "cell_type": "code",
      "execution_count": 110,
      "metadata": {
        "id": "8FqSVPSMxORW"
      },
      "outputs": [],
      "source": [
        "def plotmultiBars(listOfRelation,xValues,yValues=None,xlabel=\"\",ylabel=\"\",log=False,width=0.1,dim1=14,dim2=8,degree=0):\n",
        "  plt_1 = plt.figure(figsize=(dim1, dim2))\n",
        "  x = np.arange(len(xValues))\n",
        "  numberOfBars = len(listOfRelation[0])\n",
        "  start = (numberOfBars*width)/2\n",
        "  for i in range(0,len(listOfRelation[0])):\n",
        "    if log:\n",
        "      plt.bar(x-start + width/2 +(i*width),np.log(listOfRelation[:,i]) , width)\n",
        "    else:\n",
        "      plt.bar(x-start + width/2 +(i*width),listOfRelation[:,i] , width)\n",
        "  plt.xticks(x, xValues,rotation=degree)\n",
        "  plt.xlabel(xlabel)\n",
        "  plt.ylabel(ylabel)\n",
        "  if ylabel!=None:\n",
        "    plt.legend(yValues)\n",
        "  plt.show()"
      ]
    },
    {
      "cell_type": "code",
      "execution_count": 111,
      "metadata": {
        "colab": {
          "base_uri": "https://localhost:8080/"
        },
        "id": "Rf4OGO8JN62M",
        "outputId": "9c888252-3ceb-470d-b179-d11574333bd2"
      },
      "outputs": [
        {
          "data": {
            "text/plain": [
              "(146322, 35)"
            ]
          },
          "execution_count": 111,
          "metadata": {},
          "output_type": "execute_result"
        }
      ],
      "source": [
        "df.shape"
      ]
    },
    {
      "cell_type": "code",
      "execution_count": 112,
      "metadata": {
        "colab": {
          "base_uri": "https://localhost:8080/"
        },
        "id": "D61QRqrYMw75",
        "outputId": "cdab7b83-fc47-4a15-934d-e427eefe627d"
      },
      "outputs": [
        {
          "name": "stdout",
          "output_type": "stream",
          "text": [
            "<class 'pandas.core.frame.DataFrame'>\n",
            "Index: 146322 entries, 01BS70001 to 984139614\n",
            "Data columns (total 35 columns):\n",
            " #   Column                                       Non-Null Count   Dtype  \n",
            "---  ------                                       --------------   -----  \n",
            " 0   accident_index                               146322 non-null  object \n",
            " 1   accident_year                                146322 non-null  int64  \n",
            " 2   location_easting_osgr                        146322 non-null  int64  \n",
            " 3   location_northing_osgr                       146322 non-null  int64  \n",
            " 4   longitude                                    146322 non-null  float64\n",
            " 5   latitude                                     146322 non-null  float64\n",
            " 6   police_force                                 146322 non-null  object \n",
            " 7   accident_severity                            146322 non-null  object \n",
            " 8   number_of_vehicles                           146322 non-null  int64  \n",
            " 9   number_of_casualties                         146322 non-null  int64  \n",
            " 10  date                                         146322 non-null  object \n",
            " 11  day_of_week                                  146322 non-null  object \n",
            " 12  time                                         146322 non-null  object \n",
            " 13  local_authority_district                     146322 non-null  object \n",
            " 14  local_authority_ons_district                 146322 non-null  object \n",
            " 15  local_authority_highway                      146322 non-null  object \n",
            " 16  first_road_class                             146322 non-null  object \n",
            " 17  first_road_number                            146322 non-null  object \n",
            " 18  road_type                                    145816 non-null  object \n",
            " 19  speed_limit                                  146322 non-null  int64  \n",
            " 20  junction_detail                              146322 non-null  object \n",
            " 21  junction_control                             146322 non-null  object \n",
            " 22  second_road_class                            146322 non-null  object \n",
            " 23  second_road_number                           89322 non-null   object \n",
            " 24  pedestrian_crossing_human_control            146322 non-null  object \n",
            " 25  pedestrian_crossing_physical_facilities      146322 non-null  object \n",
            " 26  light_conditions                             146322 non-null  object \n",
            " 27  weather_conditions                           143842 non-null  object \n",
            " 28  road_surface_conditions                      146322 non-null  object \n",
            " 29  special_conditions_at_site                   146322 non-null  object \n",
            " 30  carriageway_hazards                          146322 non-null  object \n",
            " 31  urban_or_rural_area                          146322 non-null  object \n",
            " 32  did_police_officer_attend_scene_of_accident  146322 non-null  object \n",
            " 33  trunk_road_flag                              146322 non-null  object \n",
            " 34  lsoa_of_accident_location                    146322 non-null  object \n",
            "dtypes: float64(2), int64(6), object(27)\n",
            "memory usage: 40.2+ MB\n"
          ]
        }
      ],
      "source": [
        "df.info()"
      ]
    },
    {
      "cell_type": "code",
      "execution_count": 113,
      "metadata": {
        "colab": {
          "base_uri": "https://localhost:8080/"
        },
        "id": "r4qJiPvuR_iV",
        "outputId": "a9e8c3c1-328e-461c-8eda-f6f6e6571f49"
      },
      "outputs": [
        {
          "data": {
            "text/plain": [
              "accident_index                                     0\n",
              "accident_year                                      0\n",
              "location_easting_osgr                              0\n",
              "location_northing_osgr                             0\n",
              "longitude                                          0\n",
              "latitude                                           0\n",
              "police_force                                       0\n",
              "accident_severity                                  0\n",
              "number_of_vehicles                                 0\n",
              "number_of_casualties                               0\n",
              "date                                               0\n",
              "day_of_week                                        0\n",
              "time                                               0\n",
              "local_authority_district                           0\n",
              "local_authority_ons_district                       0\n",
              "local_authority_highway                            0\n",
              "first_road_class                                   0\n",
              "first_road_number                                  0\n",
              "road_type                                        506\n",
              "speed_limit                                        0\n",
              "junction_detail                                    0\n",
              "junction_control                                   0\n",
              "second_road_class                                  0\n",
              "second_road_number                             57000\n",
              "pedestrian_crossing_human_control                  0\n",
              "pedestrian_crossing_physical_facilities            0\n",
              "light_conditions                                   0\n",
              "weather_conditions                              2480\n",
              "road_surface_conditions                            0\n",
              "special_conditions_at_site                         0\n",
              "carriageway_hazards                                0\n",
              "urban_or_rural_area                                0\n",
              "did_police_officer_attend_scene_of_accident        0\n",
              "trunk_road_flag                                    0\n",
              "lsoa_of_accident_location                          0\n",
              "dtype: int64"
            ]
          },
          "execution_count": 113,
          "metadata": {},
          "output_type": "execute_result"
        }
      ],
      "source": [
        "df.isnull().sum()"
      ]
    },
    {
      "attachments": {},
      "cell_type": "markdown",
      "metadata": {
        "id": "HQH9hhbOOVqf"
      },
      "source": [
        "from first analysis we can see  second_road_number, road_type and weather_conditions have null values"
      ]
    },
    {
      "attachments": {},
      "cell_type": "markdown",
      "metadata": {
        "id": "OyuFJnkh3U8l"
      },
      "source": [
        "###Column 0 is the accident year and all vaues 2014"
      ]
    },
    {
      "cell_type": "code",
      "execution_count": 114,
      "metadata": {
        "id": "hsRMQvHCkJ08"
      },
      "outputs": [],
      "source": [
        "add_to_col_drop('accident_year')"
      ]
    },
    {
      "attachments": {},
      "cell_type": "markdown",
      "metadata": {
        "id": "XK5ixVWq3iGa"
      },
      "source": [
        "### Column 1 with 146322 values so no null values here. the column values represent reference to the accident and it is a suffix of the index after 2014"
      ]
    },
    {
      "cell_type": "code",
      "execution_count": 115,
      "metadata": {
        "id": "m5esIotOS9ZY"
      },
      "outputs": [],
      "source": [
        "def checkvalidRefWithIndex(index,ref,prefix):\n",
        "  c = 0\n",
        "  if(len(index)!=len(ref)):\n",
        "    return False;\n",
        "  for i in range(0,len(ref)):\n",
        "    refTIndex = prefix+ref[i]\n",
        "    if(refTIndex!=index[i]):\n",
        "      c+=1\n",
        "  return c==0"
      ]
    },
    {
      "attachments": {},
      "cell_type": "markdown",
      "metadata": {
        "id": "TvponxZT2ly0"
      },
      "source": [
        "# Cleaning"
      ]
    },
    {
      "attachments": {},
      "cell_type": "markdown",
      "metadata": {
        "id": "_gi_oDrpA9RZ"
      },
      "source": [
        "### All first roads have class label C or Unclassified if and only if these roads do not have road numbers"
      ]
    },
    {
      "cell_type": "code",
      "execution_count": 116,
      "metadata": {
        "id": "F320u4sns_h3"
      },
      "outputs": [],
      "source": [
        "all_first_class_c_unclassified = df[df.first_road_class.isin(['C','Unclassified'])].first_road_number"
      ]
    },
    {
      "cell_type": "code",
      "execution_count": 117,
      "metadata": {
        "colab": {
          "base_uri": "https://localhost:8080/"
        },
        "id": "KFawOHsoLOa3",
        "outputId": "392f984f-95b3-4aea-8f9c-608af8db99ee"
      },
      "outputs": [
        {
          "data": {
            "text/plain": [
              "array(['first_road_class is C or Unclassified. These roads do not have official numbers so recorded as zero '],\n",
              "      dtype=object)"
            ]
          },
          "execution_count": 117,
          "metadata": {},
          "output_type": "execute_result"
        }
      ],
      "source": [
        "all_first_class_c_unclassified.unique()"
      ]
    },
    {
      "cell_type": "code",
      "execution_count": 118,
      "metadata": {
        "colab": {
          "base_uri": "https://localhost:8080/"
        },
        "id": "V8Pa51RFMgvE",
        "outputId": "21e1e482-ab8f-4d9b-f8f0-b7eb348b14a4"
      },
      "outputs": [
        {
          "data": {
            "text/plain": [
              "accident_reference\n",
              "01BS70004               C\n",
              "01BS70011               C\n",
              "01BS70013               C\n",
              "01BS70017    Unclassified\n",
              "01BS70018               C\n",
              "                 ...     \n",
              "984122114               C\n",
              "984124914               C\n",
              "984129714               C\n",
              "984131414    Unclassified\n",
              "984133714    Unclassified\n",
              "Name: first_road_class, Length: 54291, dtype: object"
            ]
          },
          "execution_count": 118,
          "metadata": {},
          "output_type": "execute_result"
        }
      ],
      "source": [
        "text_of_missing_road_number = 'first_road_class is C or Unclassified. These roads do not have official numbers so recorded as zero '\n",
        "all_road_without_number = df[df.first_road_number==text_of_missing_road_number].first_road_class\n",
        "all_road_without_number"
      ]
    },
    {
      "cell_type": "code",
      "execution_count": 119,
      "metadata": {
        "colab": {
          "base_uri": "https://localhost:8080/"
        },
        "id": "kK49eVy4Nb2I",
        "outputId": "29f22ddd-75f3-4841-c9a5-362448ced0b8"
      },
      "outputs": [
        {
          "data": {
            "text/plain": [
              "array(['C', 'Unclassified'], dtype=object)"
            ]
          },
          "execution_count": 119,
          "metadata": {},
          "output_type": "execute_result"
        }
      ],
      "source": [
        "all_road_without_number.unique()"
      ]
    },
    {
      "cell_type": "code",
      "execution_count": null,
      "metadata": {
        "id": "3-yyIHvYOBlP"
      },
      "outputs": [],
      "source": []
    },
    {
      "attachments": {},
      "cell_type": "markdown",
      "metadata": {
        "id": "GMDtYpzrQUPG"
      },
      "source": [
        "### NAN Second Road Number"
      ]
    },
    {
      "cell_type": "code",
      "execution_count": 120,
      "metadata": {
        "colab": {
          "base_uri": "https://localhost:8080/"
        },
        "id": "kOtZn7L_OBnp",
        "outputId": "4bf70308-d850-482f-d7e3-66c69b6fdaf0"
      },
      "outputs": [
        {
          "data": {
            "text/plain": [
              "array([nan], dtype=object)"
            ]
          },
          "execution_count": 120,
          "metadata": {},
          "output_type": "execute_result"
        }
      ],
      "source": [
        "roadsNumberWithNegativeClass = df[df.second_road_class=='-1'].second_road_number\n",
        "roadsNumberWithNegativeClass.unique()"
      ]
    },
    {
      "attachments": {},
      "cell_type": "markdown",
      "metadata": {
        "id": "kYzNOiSSQeu7"
      },
      "source": [
        "all roads with -1 class have nan as a road number"
      ]
    },
    {
      "cell_type": "code",
      "execution_count": 121,
      "metadata": {
        "colab": {
          "base_uri": "https://localhost:8080/"
        },
        "id": "WfIQVj0aOUcR",
        "outputId": "cb42c549-d1f2-4abe-d590-c4bebcded37c"
      },
      "outputs": [
        {
          "data": {
            "text/plain": [
              "array(['-1', 'A', 'B'], dtype=object)"
            ]
          },
          "execution_count": 121,
          "metadata": {},
          "output_type": "execute_result"
        }
      ],
      "source": [
        "road_classes_when_roads_with_NaN_number = df[df.second_road_number.isnull()].second_road_class\n",
        "road_classes_when_roads_with_NaN_number.unique()"
      ]
    },
    {
      "attachments": {},
      "cell_type": "markdown",
      "metadata": {
        "id": "zLRN0y2EQmTI"
      },
      "source": [
        "most of roads with nan as road number has -1 class"
      ]
    },
    {
      "cell_type": "code",
      "execution_count": 122,
      "metadata": {
        "colab": {
          "base_uri": "https://localhost:8080/"
        },
        "id": "MlIEvyB3OjmK",
        "outputId": "a2eac62f-50ae-4a33-fafb-260495820b11"
      },
      "outputs": [
        {
          "data": {
            "text/plain": [
              "{'-1': 99.996, 'A': 0.002, 'B': 0.002}"
            ]
          },
          "execution_count": 122,
          "metadata": {},
          "output_type": "execute_result"
        }
      ],
      "source": [
        "percent_road_classes_when_roads_with_NaN_number= percentOfCategories(road_classes_when_roads_with_NaN_number,r=3)\n",
        "percent_road_classes_when_roads_with_NaN_number"
      ]
    },
    {
      "attachments": {},
      "cell_type": "markdown",
      "metadata": {
        "id": "Z5kWZdwbQ5aM"
      },
      "source": [
        "#### replace all roads with -1 class to have -1 as road number"
      ]
    },
    {
      "cell_type": "code",
      "execution_count": 123,
      "metadata": {},
      "outputs": [],
      "source": [
        "def countRoadWithoutNumber(x):\n",
        "  res={}\n",
        "  for road in x:\n",
        "    road = str(road)\n",
        "    if road=='nan':\n",
        "      if(road in res):\n",
        "        res[road]=res[road]+1\n",
        "      else:\n",
        "        res[road]=1\n",
        "    try:\n",
        "      float(road)\n",
        "    except:\n",
        "      if(road in res):\n",
        "        res[road]=res[road]+1\n",
        "      else:\n",
        "        res[road]=1\n",
        "        \n",
        "  return res"
      ]
    },
    {
      "cell_type": "code",
      "execution_count": 124,
      "metadata": {
        "id": "QLy5DBQaOnYk"
      },
      "outputs": [],
      "source": [
        "no_second_road_then_no_number = '-1'\n",
        "df.second_road_number= np.where(df.second_road_class == '-1', no_second_road_then_no_number,df.second_road_number)"
      ]
    },
    {
      "cell_type": "code",
      "execution_count": 125,
      "metadata": {
        "colab": {
          "base_uri": "https://localhost:8080/"
        },
        "id": "GWUCjoK9RIzC",
        "outputId": "a60024a3-6cfd-4f7e-ed60-49d9ecbfedb1"
      },
      "outputs": [
        {
          "data": {
            "text/plain": [
              "{'first_road_class is C or Unclassified. These roads do not have official numbers so recorded as zero ': 46.292,\n",
              " 'nan': 0.001}"
            ]
          },
          "execution_count": 125,
          "metadata": {},
          "output_type": "execute_result"
        }
      ],
      "source": [
        "percent_Missing_second_road_number_after_filter = percentOfCategories(df.second_road_number,r=3,fun=countRoadWithoutNumber)\n",
        "percent_Missing_second_road_number_after_filter"
      ]
    },
    {
      "attachments": {},
      "cell_type": "markdown",
      "metadata": {
        "id": "o9X-HRz7RXTc"
      },
      "source": [
        "0.001 nan which low percentage so it may be noise \n",
        "we will drop them  "
      ]
    },
    {
      "cell_type": "code",
      "execution_count": 126,
      "metadata": {
        "id": "9EkjBpSERlNL"
      },
      "outputs": [],
      "source": [
        "df.dropna(subset = ['second_road_number'], inplace=True)"
      ]
    },
    {
      "cell_type": "code",
      "execution_count": 127,
      "metadata": {
        "id": "fbIX3dH4Rw5j"
      },
      "outputs": [],
      "source": [
        "has_no_number = '0'\n",
        "df.second_road_number= np.where(df.second_road_number == 'first_road_class is C or Unclassified. These roads do not have official numbers so recorded as zero ', has_no_number,df.second_road_number)\n",
        "df.first_road_number= np.where(df.first_road_number == 'first_road_class is C or Unclassified. These roads do not have official numbers so recorded as zero ', has_no_number,df.first_road_number)"
      ]
    },
    {
      "cell_type": "code",
      "execution_count": 128,
      "metadata": {
        "colab": {
          "base_uri": "https://localhost:8080/"
        },
        "id": "WTAucKjfSHCs",
        "outputId": "a1478147-42e9-4544-ec2a-09ca42ccf790"
      },
      "outputs": [
        {
          "data": {
            "text/plain": [
              "{}"
            ]
          },
          "execution_count": 128,
          "metadata": {},
          "output_type": "execute_result"
        }
      ],
      "source": [
        "percent_Missing_second_road_number_after_filter_after_drop = percentOfCategories(df.second_road_number,r=3,fun=countRoadWithoutNumber)\n",
        "percent_Missing_second_road_number_after_filter_after_drop"
      ]
    },
    {
      "attachments": {},
      "cell_type": "markdown",
      "metadata": {
        "id": "mMLLWBJnSHm-"
      },
      "source": [
        "### Road type NaN"
      ]
    },
    {
      "cell_type": "code",
      "execution_count": null,
      "metadata": {
        "id": "lPLibjtTSXjc"
      },
      "outputs": [],
      "source": []
    },
    {
      "cell_type": "code",
      "execution_count": 129,
      "metadata": {
        "id": "2Wh1b07uSXsx"
      },
      "outputs": [],
      "source": [
        "road_class_when_road_type_isnull = df[df.road_type.isnull()].first_road_class"
      ]
    },
    {
      "cell_type": "code",
      "execution_count": 130,
      "metadata": {
        "colab": {
          "base_uri": "https://localhost:8080/"
        },
        "id": "NjK5OKUnSmXU",
        "outputId": "f98df103-aded-4f9b-cafb-89f1f0086000"
      },
      "outputs": [
        {
          "data": {
            "text/plain": [
              "{'Unclassified': 58.103,\n",
              " 'B': 9.091,\n",
              " 'C': 4.941,\n",
              " 'A': 24.506,\n",
              " 'Motorway': 2.964,\n",
              " 'A(M)': 0.395}"
            ]
          },
          "execution_count": 130,
          "metadata": {},
          "output_type": "execute_result"
        }
      ],
      "source": [
        "percent_road_class_when_road_type_isnull = percentOfCategories(road_class_when_road_type_isnull,r=3)\n",
        "percent_road_class_when_road_type_isnull"
      ]
    },
    {
      "cell_type": "code",
      "execution_count": 131,
      "metadata": {
        "colab": {
          "base_uri": "https://localhost:8080/",
          "height": 54
        },
        "id": "9-oZPiPES1w1",
        "outputId": "da67b135-cd1e-43fe-9ce0-e07c5ed2ff80"
      },
      "outputs": [
        {
          "data": {
            "image/png": "[encoded data removed]",
            "text/plain": [
              "<Figure size 1400x800 with 1 Axes>"
            ]
          },
          "metadata": {},
          "output_type": "display_data"
        }
      ],
      "source": [
        "x,a,b = getDictOfListsOfTwoFeatures(df,'road_type','first_road_class')\n",
        "x =np.array(convertDictTo2DList(x,b))\n",
        "plotmultiBars(x,a,b,log=True,xlabel='first_road_class',ylabel='log scale of percent count road type')"
      ]
    },
    {
      "attachments": {},
      "cell_type": "markdown",
      "metadata": {
        "id": "rKaRiYI_Tsds"
      },
      "source": [
        "nans are distributed among all road types so we can say missing is random and we will drop them since nan represent 0.3%"
      ]
    },
    {
      "cell_type": "code",
      "execution_count": 132,
      "metadata": {
        "id": "5r-1XAfrUKvm"
      },
      "outputs": [],
      "source": [
        "df.dropna(subset = ['road_type'], inplace=True)"
      ]
    },
    {
      "cell_type": "code",
      "execution_count": null,
      "metadata": {
        "id": "pXV0EhXig8im"
      },
      "outputs": [],
      "source": []
    },
    {
      "attachments": {},
      "cell_type": "markdown",
      "metadata": {
        "id": "ljDSEX8kSaqI"
      },
      "source": [
        "### weather_conditions NaNs"
      ]
    },
    {
      "cell_type": "code",
      "execution_count": 133,
      "metadata": {
        "colab": {
          "base_uri": "https://localhost:8080/"
        },
        "id": "bBiP_65zg8lJ",
        "outputId": "80aaa474-37fb-44ca-a9d5-c33a4ae2ced2"
      },
      "outputs": [
        {
          "data": {
            "text/plain": [
              "{'Metropolitan Police': 23.216,\n",
              " 'City of London': 0.082,\n",
              " 'Cumbria': 1.025,\n",
              " 'Lancashire': 1.354,\n",
              " 'Merseyside': 1.682,\n",
              " 'Greater Manchester': 2.666,\n",
              " 'Cheshire': 1.436,\n",
              " 'Northumbria': 0.861,\n",
              " 'Durham': 0.369,\n",
              " 'North Yorkshire': 0.369,\n",
              " 'West Yorkshire': 2.461,\n",
              " 'South Yorkshire': 7.834,\n",
              " 'Humberside': 0.082,\n",
              " 'West Midlands': 9.721,\n",
              " 'Staffordshire': 0.41,\n",
              " 'West Mercia': 0.082,\n",
              " 'Derbyshire': 2.543,\n",
              " 'Nottinghamshire': 3.651,\n",
              " 'Lincolnshire': 3.322,\n",
              " 'Leicestershire': 1.6,\n",
              " 'Northamptonshire': 0.328,\n",
              " 'Cambridgeshire': 2.748,\n",
              " 'Norfolk': 0.082,\n",
              " 'Suffolk': 0.984,\n",
              " 'Bedfordshire': 0.041,\n",
              " 'Hertfordshire': 1.682,\n",
              " 'Essex': 0.697,\n",
              " 'Thames Valley': 1.395,\n",
              " 'Hampshire': 0.984,\n",
              " 'Surrey': 5.578,\n",
              " 'Kent': 7.957,\n",
              " 'Sussex': 2.748,\n",
              " 'Devon and Cornwall': 0.861,\n",
              " 'Avon and Somerset': 2.297,\n",
              " 'Gloucestershire': 0.041,\n",
              " 'Dorset': 0.041,\n",
              " 'North Wales': 0.738,\n",
              " 'Gwent': 0.492,\n",
              " 'South Wales': 0.41,\n",
              " 'Dyfed-Powys': 0.861,\n",
              " 'Northern': 0.328,\n",
              " 'Grampian': 0.451,\n",
              " 'Fife': 0.164,\n",
              " 'Lothian and Borders': 1.928,\n",
              " 'Central': 0.041,\n",
              " 'Strathclyde': 1.354}"
            ]
          },
          "execution_count": 133,
          "metadata": {},
          "output_type": "execute_result"
        }
      ],
      "source": [
        "percentOfCategories(df[df.weather_conditions.isnull()].police_force,r=3)"
      ]
    },
    {
      "cell_type": "code",
      "execution_count": 134,
      "metadata": {
        "colab": {
          "base_uri": "https://localhost:8080/"
        },
        "id": "gWA6ULKWg8oD",
        "outputId": "0ec698ef-3a1d-4236-a32e-7a7b72053405"
      },
      "outputs": [
        {
          "data": {
            "text/plain": [
              "{'Slight': 88.843, 'Serious': 10.541, 'Fatal': 0.615}"
            ]
          },
          "execution_count": 134,
          "metadata": {},
          "output_type": "execute_result"
        }
      ],
      "source": [
        "percentOfCategories(df[df.weather_conditions.isnull()].accident_severity,r=3)"
      ]
    },
    {
      "cell_type": "code",
      "execution_count": 135,
      "metadata": {
        "colab": {
          "base_uri": "https://localhost:8080/"
        },
        "id": "e6VMWAMTg8qM",
        "outputId": "a8219763-3743-4dc8-b992-8574228910f7"
      },
      "outputs": [
        {
          "data": {
            "text/plain": [
              "{'Saturday': 14.069,\n",
              " 'Wednesday': 16.161,\n",
              " 'Monday': 12.1,\n",
              " 'Tuesday': 15.751,\n",
              " 'Thursday': 16.325,\n",
              " 'Sunday': 10.049,\n",
              " 'Friday': 15.546}"
            ]
          },
          "execution_count": 135,
          "metadata": {},
          "output_type": "execute_result"
        }
      ],
      "source": [
        "percentOfCategories(df[df.weather_conditions.isnull()].day_of_week,r=3)"
      ]
    },
    {
      "cell_type": "code",
      "execution_count": 136,
      "metadata": {
        "colab": {
          "base_uri": "https://localhost:8080/"
        },
        "id": "JC0KbpUNb3Nc",
        "outputId": "a3fc7317-cf7a-4ce2-fcf3-9fcc6db67631"
      },
      "outputs": [
        {
          "data": {
            "text/plain": [
              "{'A': 44.34,\n",
              " 'C': 9.557,\n",
              " 'Unclassified': 31.501,\n",
              " 'B': 12.059,\n",
              " 'Motorway': 2.297,\n",
              " 'A(M)': 0.246}"
            ]
          },
          "execution_count": 136,
          "metadata": {},
          "output_type": "execute_result"
        }
      ],
      "source": [
        "percentOfCategories(df[df.weather_conditions.isnull()].first_road_class,r=3)"
      ]
    },
    {
      "cell_type": "code",
      "execution_count": 137,
      "metadata": {
        "colab": {
          "base_uri": "https://localhost:8080/"
        },
        "id": "M9lUS0BYh9md",
        "outputId": "908f4391-4eee-481f-a4e0-9bfea4cb4f85"
      },
      "outputs": [
        {
          "data": {
            "text/plain": [
              "{'Single carriageway': 75.554,\n",
              " 'Dual carriageway': 12.141,\n",
              " 'One way street': 2.707,\n",
              " 'Roundabout': 8.819,\n",
              " 'Slip road': 0.779}"
            ]
          },
          "execution_count": 137,
          "metadata": {},
          "output_type": "execute_result"
        }
      ],
      "source": [
        "percentOfCategories(df[df.weather_conditions.isnull()].road_type,r=3)"
      ]
    },
    {
      "cell_type": "code",
      "execution_count": 138,
      "metadata": {
        "colab": {
          "base_uri": "https://localhost:8080/"
        },
        "id": "64BlXbt_h9o1",
        "outputId": "9ef1c5a4-50dc-4b3f-d637-1d88f3aa234f"
      },
      "outputs": [
        {
          "data": {
            "text/plain": [
              "{'Daylight': 65.299,\n",
              " 'Darkness - lighting unknown': 12.223,\n",
              " 'Darkness - lights lit': 18.868,\n",
              " 'Darkness - lights unlit': 0.533,\n",
              " 'Darkness - no lighting': 3.076}"
            ]
          },
          "execution_count": 138,
          "metadata": {},
          "output_type": "execute_result"
        }
      ],
      "source": [
        "percentOfCategories(df[df.weather_conditions.isnull()].light_conditions,r=3)"
      ]
    },
    {
      "cell_type": "code",
      "execution_count": 139,
      "metadata": {
        "colab": {
          "base_uri": "https://localhost:8080/"
        },
        "id": "L-MUawxeh9ri",
        "outputId": "6b444874-1577-40c0-cf1b-d537ede1cf32"
      },
      "outputs": [
        {
          "data": {
            "text/plain": [
              "{'Dry': 72.97,\n",
              " 'Wet or damp': 20.139,\n",
              " 'Frost or ice': 0.902,\n",
              " 'Data missing or out of range': 5.865,\n",
              " 'Flood over 3cm. deep': 0.082,\n",
              " 'Snow': 0.041}"
            ]
          },
          "execution_count": 139,
          "metadata": {},
          "output_type": "execute_result"
        }
      ],
      "source": [
        "percentOfCategories(df[df.weather_conditions.isnull()].road_surface_conditions,r=3)"
      ]
    },
    {
      "attachments": {},
      "cell_type": "markdown",
      "metadata": {
        "id": "EUT-MTQ0SnkP"
      },
      "source": [
        "no relation between nans in weather conditions with any features all nans are distributed normally. nans represnts 1.7%\n",
        "so we will drop nan "
      ]
    },
    {
      "cell_type": "code",
      "execution_count": 140,
      "metadata": {
        "id": "dHW82QyYh9t0"
      },
      "outputs": [],
      "source": [
        "df.dropna(subset = ['weather_conditions'], inplace=True)"
      ]
    },
    {
      "cell_type": "code",
      "execution_count": 141,
      "metadata": {
        "colab": {
          "base_uri": "https://localhost:8080/"
        },
        "id": "IpugoBl6h9xx",
        "outputId": "511c8cdc-4b52-4495-d488-e62c931d8bf7"
      },
      "outputs": [
        {
          "data": {
            "text/plain": [
              "accident_index                                 0\n",
              "accident_year                                  0\n",
              "location_easting_osgr                          0\n",
              "location_northing_osgr                         0\n",
              "longitude                                      0\n",
              "latitude                                       0\n",
              "police_force                                   0\n",
              "accident_severity                              0\n",
              "number_of_vehicles                             0\n",
              "number_of_casualties                           0\n",
              "date                                           0\n",
              "day_of_week                                    0\n",
              "time                                           0\n",
              "local_authority_district                       0\n",
              "local_authority_ons_district                   0\n",
              "local_authority_highway                        0\n",
              "first_road_class                               0\n",
              "first_road_number                              0\n",
              "road_type                                      0\n",
              "speed_limit                                    0\n",
              "junction_detail                                0\n",
              "junction_control                               0\n",
              "second_road_class                              0\n",
              "second_road_number                             0\n",
              "pedestrian_crossing_human_control              0\n",
              "pedestrian_crossing_physical_facilities        0\n",
              "light_conditions                               0\n",
              "weather_conditions                             0\n",
              "road_surface_conditions                        0\n",
              "special_conditions_at_site                     0\n",
              "carriageway_hazards                            0\n",
              "urban_or_rural_area                            0\n",
              "did_police_officer_attend_scene_of_accident    0\n",
              "trunk_road_flag                                0\n",
              "lsoa_of_accident_location                      0\n",
              "dtype: int64"
            ]
          },
          "execution_count": 141,
          "metadata": {},
          "output_type": "execute_result"
        }
      ],
      "source": [
        "df.isnull().sum()"
      ]
    },
    {
      "attachments": {},
      "cell_type": "markdown",
      "metadata": {
        "id": "D8cV-GgETpOh"
      },
      "source": [
        "### Missing in junction_control feature"
      ]
    },
    {
      "cell_type": "code",
      "execution_count": 142,
      "metadata": {
        "id": "2vU1Ief5ijds"
      },
      "outputs": [],
      "source": [
        "Data_missing_or_out_of_range = 'Data missing or out of range'"
      ]
    },
    {
      "cell_type": "code",
      "execution_count": 143,
      "metadata": {
        "colab": {
          "base_uri": "https://localhost:8080/"
        },
        "id": "Kw0fVWgoijgR",
        "outputId": "24d55a80-c491-48e3-da4e-fe3ff7c669c3"
      },
      "outputs": [
        {
          "data": {
            "text/plain": [
              "{'Not at junction or within 20 metres': 99.89,\n",
              " 'Other junction': 0.063,\n",
              " 'Private drive or entrance': 0.033,\n",
              " 'T or staggered junction': 0.009,\n",
              " 'Roundabout': 0.004,\n",
              " 'Slip road': 0.002}"
            ]
          },
          "execution_count": 143,
          "metadata": {},
          "output_type": "execute_result"
        }
      ],
      "source": [
        "percentOfCategories(df[df.junction_control==Data_missing_or_out_of_range].junction_detail,r=3)"
      ]
    },
    {
      "attachments": {},
      "cell_type": "markdown",
      "metadata": {
        "id": "4ssFZLnKT2GH"
      },
      "source": [
        "when junction_control is Data_missing_or_out_of_range 99.89% of junction detail is Not at junction or within 20 metres.\n",
        "replace junction control with missing to Not at junction then no control when junction detail = Not at junction or within 20 metres"
      ]
    },
    {
      "cell_type": "code",
      "execution_count": 144,
      "metadata": {
        "id": "Kz8NGZtvi-9Q"
      },
      "outputs": [],
      "source": [
        "Not_at_junction_then_no_control= 'Not at junction then no control'\n",
        "Not_at_junction_or_within_20_metres = 'Not at junction or within 20 metres'\n",
        "df.junction_control= np.where((df.junction_detail == Not_at_junction_or_within_20_metres) & (df.junction_control==Data_missing_or_out_of_range), Not_at_junction_then_no_control,df.junction_control)"
      ]
    },
    {
      "cell_type": "code",
      "execution_count": 145,
      "metadata": {
        "colab": {
          "base_uri": "https://localhost:8080/"
        },
        "id": "d0QJCWsIi_ES",
        "outputId": "947703c0-5674-43e1-91d4-5f743e227df7"
      },
      "outputs": [
        {
          "data": {
            "text/plain": [
              "{'Not at junction then no control': 99.991,\n",
              " 'Give way or uncontrolled': 0.007,\n",
              " 'Auto traffic signal': 0.002}"
            ]
          },
          "execution_count": 145,
          "metadata": {},
          "output_type": "execute_result"
        }
      ],
      "source": [
        "percentOfCategories(df[df.junction_detail==Not_at_junction_or_within_20_metres].junction_control,r=3)"
      ]
    },
    {
      "attachments": {},
      "cell_type": "markdown",
      "metadata": {
        "id": "33FB6XjWVZ6D"
      },
      "source": [
        "drop accidents with junction_detail =Not_at_junction_or_within_20_metres and junction_control!=Not_at_junction_then_no_control.\n",
        "not a correct situation for having a value for junction_control and there is no junction"
      ]
    },
    {
      "cell_type": "code",
      "execution_count": 146,
      "metadata": {
        "id": "W9QMRFFMi_Gj"
      },
      "outputs": [],
      "source": [
        "df = df[(df.junction_detail!=Not_at_junction_or_within_20_metres) | (df.junction_control==Not_at_junction_then_no_control)]"
      ]
    },
    {
      "cell_type": "code",
      "execution_count": 147,
      "metadata": {
        "colab": {
          "base_uri": "https://localhost:8080/"
        },
        "id": "6nXdPepQi_JI",
        "outputId": "102769a0-dd69-4bf6-859d-a7a02c17be93"
      },
      "outputs": [
        {
          "data": {
            "text/plain": [
              "{'Not at junction then no control': 100.0}"
            ]
          },
          "execution_count": 147,
          "metadata": {},
          "output_type": "execute_result"
        }
      ],
      "source": [
        "percentOfCategories(df[df.junction_detail==Not_at_junction_or_within_20_metres].junction_control,r=3)"
      ]
    },
    {
      "cell_type": "code",
      "execution_count": null,
      "metadata": {
        "id": "V8YTESNpWgjx"
      },
      "outputs": [],
      "source": []
    },
    {
      "attachments": {},
      "cell_type": "markdown",
      "metadata": {
        "id": "cl9IrkdcWhV9"
      },
      "source": [
        "only 61 records with missing junction_control.\n",
        "Drop missing in junction_control"
      ]
    },
    {
      "cell_type": "code",
      "execution_count": 148,
      "metadata": {
        "colab": {
          "base_uri": "https://localhost:8080/"
        },
        "id": "cZH0cP5gkXBl",
        "outputId": "811ba4c2-26e1-4f52-cb08-3bd84c285b2f"
      },
      "outputs": [
        {
          "data": {
            "text/plain": [
              "61"
            ]
          },
          "execution_count": 148,
          "metadata": {},
          "output_type": "execute_result"
        }
      ],
      "source": [
        "len(df[df.junction_control==Data_missing_or_out_of_range].junction_detail)"
      ]
    },
    {
      "cell_type": "code",
      "execution_count": 149,
      "metadata": {
        "id": "E4LlIBcSkXF6"
      },
      "outputs": [],
      "source": [
        "df = df[df.junction_control!=Data_missing_or_out_of_range]"
      ]
    },
    {
      "cell_type": "code",
      "execution_count": null,
      "metadata": {
        "id": "XG-HoSG7W1a7"
      },
      "outputs": [],
      "source": []
    },
    {
      "attachments": {},
      "cell_type": "markdown",
      "metadata": {
        "id": "6b_KHXO_W5Fh"
      },
      "source": [
        "### Missing in road_surface_conditions feature"
      ]
    },
    {
      "attachments": {},
      "cell_type": "markdown",
      "metadata": {
        "id": "rmXvXH7KXABL"
      },
      "source": [
        "drop missing in road_surface_conditions column only 0.15% missing so missing is random"
      ]
    },
    {
      "cell_type": "code",
      "execution_count": 150,
      "metadata": {
        "id": "ysZD6lpDs7s_"
      },
      "outputs": [],
      "source": [
        "df = df[df.road_surface_conditions!=Data_missing_or_out_of_range]"
      ]
    },
    {
      "attachments": {},
      "cell_type": "markdown",
      "metadata": {
        "id": "nFJK6OU9XVin"
      },
      "source": [
        "drop missing in special_conditions_at_site column only 0.001% missing so missing is random"
      ]
    },
    {
      "cell_type": "code",
      "execution_count": 151,
      "metadata": {
        "id": "2SJIQVlutHPu"
      },
      "outputs": [],
      "source": [
        "df = df[df.special_conditions_at_site!=Data_missing_or_out_of_range]"
      ]
    },
    {
      "attachments": {},
      "cell_type": "markdown",
      "metadata": {
        "id": "wOX83iBjXs-b"
      },
      "source": [
        "drop missing in carriageway_hazards column only 0.001% missing so missing is random"
      ]
    },
    {
      "cell_type": "code",
      "execution_count": 152,
      "metadata": {
        "id": "ngqB6FJstMuh"
      },
      "outputs": [],
      "source": [
        "df = df[df.carriageway_hazards!=Data_missing_or_out_of_range]"
      ]
    },
    {
      "cell_type": "code",
      "execution_count": null,
      "metadata": {
        "id": "7pVbN-TRtd-t"
      },
      "outputs": [],
      "source": []
    },
    {
      "attachments": {},
      "cell_type": "markdown",
      "metadata": {
        "id": "ILw6a6fDX13j"
      },
      "source": [
        "### Missing in trunk_road_flag feature"
      ]
    },
    {
      "cell_type": "code",
      "execution_count": 153,
      "metadata": {
        "colab": {
          "base_uri": "https://localhost:8080/"
        },
        "id": "FQetwdcVteEq",
        "outputId": "9b50ec48-2a08-4eab-e524-261ff0b13ae8"
      },
      "outputs": [
        {
          "data": {
            "text/plain": [
              "{'Non-trunk': 82.676,\n",
              " 'Trunk (Roads managed by Highways England)': 7.282,\n",
              " 'Data missing or out of range': 10.042}"
            ]
          },
          "execution_count": 153,
          "metadata": {},
          "output_type": "execute_result"
        }
      ],
      "source": [
        "percentOfCategories(df.trunk_road_flag,r=3)"
      ]
    },
    {
      "cell_type": "code",
      "execution_count": 154,
      "metadata": {
        "colab": {
          "base_uri": "https://localhost:8080/"
        },
        "id": "2L9aZZEvteIJ",
        "outputId": "2c81ef34-030f-4f86-f920-95ebd08ba68e"
      },
      "outputs": [
        {
          "data": {
            "text/plain": [
              "{'B': 14.767,\n",
              " 'A': 44.601,\n",
              " 'Unclassified': 34.423,\n",
              " 'C': 2.378,\n",
              " 'Motorway': 3.622,\n",
              " 'A(M)': 0.209}"
            ]
          },
          "execution_count": 154,
          "metadata": {},
          "output_type": "execute_result"
        }
      ],
      "source": [
        "percentOfCategories(df[df.trunk_road_flag==Data_missing_or_out_of_range].first_road_class,r=3)"
      ]
    },
    {
      "cell_type": "code",
      "execution_count": 155,
      "metadata": {
        "colab": {
          "base_uri": "https://localhost:8080/"
        },
        "id": "ct9pk2TttxDN",
        "outputId": "4baaecb7-2969-409b-c294-aced5196053f"
      },
      "outputs": [
        {
          "data": {
            "text/plain": [
              "{'Single carriageway': 76.069,\n",
              " 'Dual carriageway': 14.496,\n",
              " 'Slip road': 1.126,\n",
              " 'Roundabout': 6.306,\n",
              " 'One way street': 2.002}"
            ]
          },
          "execution_count": 155,
          "metadata": {},
          "output_type": "execute_result"
        }
      ],
      "source": [
        "percentOfCategories(df[df.trunk_road_flag==Data_missing_or_out_of_range].road_type,r=3)"
      ]
    },
    {
      "cell_type": "code",
      "execution_count": 156,
      "metadata": {
        "colab": {
          "base_uri": "https://localhost:8080/"
        },
        "id": "IjqyAHlktxF0",
        "outputId": "830c3fb2-e16b-4bce-aa68-c7588e9aee39"
      },
      "outputs": [
        {
          "data": {
            "text/plain": [
              "{'Crossroads': 7.3,\n",
              " 'Not at junction or within 20 metres': 48.091,\n",
              " 'T or staggered junction': 24.842,\n",
              " 'Other junction': 5.263,\n",
              " 'Mini-roundabout': 0.577,\n",
              " 'Roundabout': 8.656,\n",
              " 'Private drive or entrance': 2.545,\n",
              " 'More than 4 arms (not roundabout)': 0.897,\n",
              " 'Slip road': 1.829}"
            ]
          },
          "execution_count": 156,
          "metadata": {},
          "output_type": "execute_result"
        }
      ],
      "source": [
        "percentOfCategories(df[df.trunk_road_flag==Data_missing_or_out_of_range].junction_detail,r=3)"
      ]
    },
    {
      "cell_type": "code",
      "execution_count": null,
      "metadata": {
        "id": "rW3COEZSj8Ry"
      },
      "outputs": [],
      "source": []
    },
    {
      "cell_type": "code",
      "execution_count": 157,
      "metadata": {
        "id": "wrQuF2JOgWsC"
      },
      "outputs": [],
      "source": [
        "def trunk_road_flag_missing(df, missing='Data missing or out of range', default='Non-trunk'):\n",
        "    res = []  # Initialize an empty list to store the new values for the trunk_road_flag column\n",
        "    values = df.trunk_road_flag.unique()  # Get the unique values in the trunk_road_flag column\n",
        "    c = 0  # Initialize a counter variable\n",
        "    for i in tqdm(range(0, len(df))):  # Loop through each row in the DataFrame\n",
        "        x = df.iloc[i]  # Get the current row\n",
        "        if x['trunk_road_flag'] == missing:  # Check if the value in the trunk_road_flag column is missing\n",
        "            # Filter the DataFrame to include only rows where the trunk_road_flag column is not equal to 'Data missing or out of range' and the first_road_number column is equal to x['first_road_number']\n",
        "            y = df[(df.trunk_road_flag != 'Data missing or out of range') & (df.first_road_number == x['first_road_number'])].trunk_road_flag.unique()\n",
        "            if len(y) > 0:  # Check if there are any rows that meet the above conditions\n",
        "                max = 0  # Initialize a variable to store the maximum count\n",
        "                s = \"\"  # Initialize a variable to store the most common value\n",
        "                for v in y:  # Loop through each unique value in y\n",
        "                    # Filter the DataFrame to include only rows where the trunk_road_flag column is equal to v and the first_road_number column is equal to x['first_road_number']\n",
        "                    z = df[(df.trunk_road_flag == v) & (df.first_road_number == x['first_road_number'])]\n",
        "                    if len(z) > max:  # Check if this value occurs more often than the current maximum count\n",
        "                        max = len(z)  # Update the maximum count\n",
        "                        s = v  # Update the most common value\n",
        "                res.append(s)  # Add the most common value to the res list\n",
        "            else:  # If no rows meet the above conditions\n",
        "                temp = df[df.first_road_class == x['first_road_class']]  # Filter the DataFrame to include only rows where the first_road_class column is equal to x['first_road_class']\n",
        "                y = temp.trunk_road_flag.unique()  # Get the unique values in the trunk_road_flag column for these rows\n",
        "                if len(y) > 0:  # Check if there are any rows that meet this condition\n",
        "                    max = 0  # Initialize a variable to store the maximum count\n",
        "                    s = \"\"  # Initialize a variable to store the most common value\n",
        "                    for v in y:  # Loop through each unique value in y\n",
        "                        # print(v,y)\n",
        "                        # print(df.index)\n",
        "                        # print(df.index.duplicated())\n",
        "                        z = temp[df.trunk_road_flag == v]  # Filter temp to include only rows where trunk_road_flag is equal to v\n",
        "                        if len(z) > max:  # Check if this value occurs more often than the current maximum count\n",
        "                            max = len(z)  # Update the maximum count\n",
        "                            s = v  # Update the most common value\n",
        "                    res.append(s)  # Add the most common value to res list\n",
        "                else:  # If no rows meet this condition either\n",
        "                    c += 1  \n",
        "                    res.append(default)   # Add default value to res list \n",
        "        else:\n",
        "            res.append(x['trunk_road_flag'])   # If trunk road flag is not missing, add it as it is \n",
        "    df['trunk_road_flag'] = res   # Update trunk road flag column with new values \n"
      ]
    },
    {
      "cell_type": "code",
      "execution_count": 158,
      "metadata": {
        "colab": {
          "base_uri": "https://localhost:8080/"
        },
        "id": "KgL12XB18vES",
        "outputId": "e57ffa14-81d5-4844-ce28-a7379cdf5cfc"
      },
      "outputs": [
        {
          "name": "stderr",
          "output_type": "stream",
          "text": [
            " 90%|████████▉ | 128483/143234 [00:25<00:03, 4403.55it/s]C:\\Users\\Bassem\\AppData\\Local\\Temp\\ipykernel_15940\\287686575.py:30: UserWarning: Boolean Series key will be reindexed to match DataFrame index.\n",
            "  z = temp[df.trunk_road_flag == v]  # Filter temp to include only rows where trunk_road_flag is equal to v\n",
            "100%|██████████| 143234/143234 [36:04<00:00, 66.17it/s]  \n"
          ]
        }
      ],
      "source": [
        "trunk_road_flag_missing(df)"
      ]
    },
    {
      "attachments": {},
      "cell_type": "markdown",
      "metadata": {
        "id": "48_pLbg9YAIR"
      },
      "source": [
        "no correlation between missing and any column. but we can use road number column to restore missing values if row x has missing trunk road flag value we search for accident in the same firt road number and use its trunk road value for road x if no roads with same number as x we use the first road class"
      ]
    },
    {
      "cell_type": "code",
      "execution_count": 159,
      "metadata": {
        "id": "d8EF_LEHb3P1"
      },
      "outputs": [],
      "source": [
        "\n",
        "# res = []\n",
        "# for y in df.first_road_number:\n",
        "#   res.append(int(y))\n",
        "# df['first_road_number_num'] =res\n",
        "# cols_to_be_droped.append('first_road_number')"
      ]
    },
    {
      "cell_type": "code",
      "execution_count": null,
      "metadata": {
        "id": "Dx_qpwNvur10"
      },
      "outputs": [],
      "source": []
    },
    {
      "cell_type": "code",
      "execution_count": 160,
      "metadata": {
        "id": "vwVGEe5uggba"
      },
      "outputs": [],
      "source": [
        "# res = []\n",
        "# for y in df.second_road_number:\n",
        "#   res.append(int(float(y)))\n",
        "# df['second_road_number_num'] =res\n",
        "# cols_to_be_droped.append('second_road_number')"
      ]
    },
    {
      "attachments": {},
      "cell_type": "markdown",
      "metadata": {
        "id": "JkAOsKMXbnGZ"
      },
      "source": [
        "### duplicate columns local_authority_district and local_authority_ons_district \n",
        "columns have same values but some areas recoded in diffirent format like St St. Edmundsbury and St Edmundsbury\n",
        "drop one of them"
      ]
    },
    {
      "cell_type": "code",
      "execution_count": 161,
      "metadata": {
        "colab": {
          "base_uri": "https://localhost:8080/"
        },
        "id": "ZQdl69uqeiiW",
        "outputId": "62846c6a-ba63-478b-97ec-6373ab1232b1"
      },
      "outputs": [
        {
          "data": {
            "text/plain": [
              "array(['Stratford-on-Avon', 'St Edmundsbury', 'St Albans',\n",
              "       'Isles of Scilly', 'Rhondda Cynon Taf', 'Vale of Glamorgan',\n",
              "       'Comhairle nan Eilean Siar', 'City of Edinburgh'], dtype=object)"
            ]
          },
          "execution_count": 161,
          "metadata": {},
          "output_type": "execute_result"
        }
      ],
      "source": [
        "df[df['local_authority_district']!=df['local_authority_ons_district']]['local_authority_ons_district'].unique()"
      ]
    },
    {
      "cell_type": "code",
      "execution_count": 162,
      "metadata": {
        "colab": {
          "base_uri": "https://localhost:8080/"
        },
        "id": "u2hF7QwZbdPD",
        "outputId": "dd638f03-0108-4b74-81dc-26634c93c07f"
      },
      "outputs": [
        {
          "data": {
            "text/plain": [
              "array(['Stratford-upon-Avon', 'St. Edmundsbury', 'St. Albans', 'Cornwall',\n",
              "       'Rhondda, Cynon, Taff', 'The Vale of Glamorgan', 'Western Isles',\n",
              "       'Edinburgh, City of'], dtype=object)"
            ]
          },
          "execution_count": 162,
          "metadata": {},
          "output_type": "execute_result"
        }
      ],
      "source": [
        "df[df['local_authority_district']!=df['local_authority_ons_district']]['local_authority_district'].unique()"
      ]
    },
    {
      "cell_type": "code",
      "execution_count": 163,
      "metadata": {
        "id": "7DSUxGWfbifp"
      },
      "outputs": [],
      "source": [
        "add_to_col_drop('local_authority_ons_district')"
      ]
    },
    {
      "attachments": {},
      "cell_type": "markdown",
      "metadata": {
        "id": "kFWGTUfOrcP9"
      },
      "source": [
        "### duplicate columns longitude latitude and location_easting_osgr \tlocation_northing_osgr \n",
        "high correlation between them and each two columns represent location so we can drop two of them"
      ]
    },
    {
      "cell_type": "code",
      "execution_count": null,
      "metadata": {
        "id": "PMbKMwSArd6u"
      },
      "outputs": [],
      "source": []
    },
    {
      "cell_type": "code",
      "execution_count": 164,
      "metadata": {
        "colab": {
          "base_uri": "https://localhost:8080/",
          "height": 176
        },
        "id": "pt2a15uDreNS",
        "outputId": "7638d0e4-1529-47ae-f662-0d6d11c8344c"
      },
      "outputs": [
        {
          "data": {
            "text/html": [
              "<div>\n",
              "<style scoped>\n",
              "    .dataframe tbody tr th:only-of-type {\n",
              "        vertical-align: middle;\n",
              "    }\n",
              "\n",
              "    .dataframe tbody tr th {\n",
              "        vertical-align: top;\n",
              "    }\n",
              "\n",
              "    .dataframe thead th {\n",
              "        text-align: right;\n",
              "    }\n",
              "</style>\n",
              "<table border=\"1\" class=\"dataframe\">\n",
              "  <thead>\n",
              "    <tr style=\"text-align: right;\">\n",
              "      <th></th>\n",
              "      <th>location_northing_osgr</th>\n",
              "      <th>latitude</th>\n",
              "    </tr>\n",
              "  </thead>\n",
              "  <tbody>\n",
              "    <tr>\n",
              "      <th>location_northing_osgr</th>\n",
              "      <td>1.000000</td>\n",
              "      <td>0.999972</td>\n",
              "    </tr>\n",
              "    <tr>\n",
              "      <th>latitude</th>\n",
              "      <td>0.999972</td>\n",
              "      <td>1.000000</td>\n",
              "    </tr>\n",
              "  </tbody>\n",
              "</table>\n",
              "</div>"
            ],
            "text/plain": [
              "                        location_northing_osgr  latitude\n",
              "location_northing_osgr                1.000000  0.999972\n",
              "latitude                              0.999972  1.000000"
            ]
          },
          "execution_count": 164,
          "metadata": {},
          "output_type": "execute_result"
        }
      ],
      "source": [
        "df[['location_northing_osgr' , 'latitude']].corr()"
      ]
    },
    {
      "cell_type": "code",
      "execution_count": 165,
      "metadata": {
        "colab": {
          "base_uri": "https://localhost:8080/",
          "height": 176
        },
        "id": "VaTqG053rqPu",
        "outputId": "af2b9d55-2bc4-4fe5-da95-5dd8f7fd49e1"
      },
      "outputs": [
        {
          "data": {
            "text/html": [
              "<div>\n",
              "<style scoped>\n",
              "    .dataframe tbody tr th:only-of-type {\n",
              "        vertical-align: middle;\n",
              "    }\n",
              "\n",
              "    .dataframe tbody tr th {\n",
              "        vertical-align: top;\n",
              "    }\n",
              "\n",
              "    .dataframe thead th {\n",
              "        text-align: right;\n",
              "    }\n",
              "</style>\n",
              "<table border=\"1\" class=\"dataframe\">\n",
              "  <thead>\n",
              "    <tr style=\"text-align: right;\">\n",
              "      <th></th>\n",
              "      <th>location_easting_osgr</th>\n",
              "      <th>longitude</th>\n",
              "    </tr>\n",
              "  </thead>\n",
              "  <tbody>\n",
              "    <tr>\n",
              "      <th>location_easting_osgr</th>\n",
              "      <td>1.000000</td>\n",
              "      <td>0.999389</td>\n",
              "    </tr>\n",
              "    <tr>\n",
              "      <th>longitude</th>\n",
              "      <td>0.999389</td>\n",
              "      <td>1.000000</td>\n",
              "    </tr>\n",
              "  </tbody>\n",
              "</table>\n",
              "</div>"
            ],
            "text/plain": [
              "                       location_easting_osgr  longitude\n",
              "location_easting_osgr               1.000000   0.999389\n",
              "longitude                           0.999389   1.000000"
            ]
          },
          "execution_count": 165,
          "metadata": {},
          "output_type": "execute_result"
        }
      ],
      "source": [
        "df[['location_easting_osgr' , 'longitude']].corr()"
      ]
    },
    {
      "cell_type": "code",
      "execution_count": 166,
      "metadata": {
        "id": "EMTIP68WryMk"
      },
      "outputs": [],
      "source": [
        "add_to_col_drop('location_easting_osgr')\n",
        "add_to_col_drop('location_northing_osgr')"
      ]
    },
    {
      "attachments": {},
      "cell_type": "markdown",
      "metadata": {
        "id": "Uvj0HaJVcjYA"
      },
      "source": [
        "## Outliers"
      ]
    },
    {
      "cell_type": "code",
      "execution_count": 167,
      "metadata": {
        "id": "flIq0tx8h5_9"
      },
      "outputs": [],
      "source": [
        "def outliersLOF(df,featureX,featureY):\n",
        "  clf = LocalOutlierFactor()\n",
        "  X = df[[featureX,featureY]].values\n",
        "  y_pred = clf.fit_predict(X)\n",
        "  plt.figure(figsize=(12,12))\n",
        "  # plot the level sets of the decision function\n",
        "\n",
        "  in_mask = [True if l == 1 else False for l in y_pred]\n",
        "  out_mask = [True if l == -1 else False for l in y_pred]\n",
        "\n",
        "  plt.title(\"Local Outlier Factor (LOF)\")\n",
        "  # inliers\n",
        "  a = plt.scatter(X[in_mask, 0], X[in_mask, 1], c = 'blue',\n",
        "                  edgecolor = 'k', s = 30)\n",
        "  # outliers\n",
        "  b = plt.scatter(X[out_mask, 0], X[out_mask, 1], c = 'red',\n",
        "                  edgecolor = 'k', s = 30)\n",
        "  plt.axis('tight')\n",
        "  plt.xlabel(featureX);\n",
        "  plt.ylabel(featureY);\n",
        "  plt.show()\n",
        "  c = 0\n",
        "  for b in out_mask:\n",
        "    if b :\n",
        "      c+=1\n",
        "  return in_mask,c\n"
      ]
    },
    {
      "cell_type": "code",
      "execution_count": 168,
      "metadata": {
        "id": "-7nFayr668Fv"
      },
      "outputs": [],
      "source": [
        "def outliersBox(df,feature):\n",
        "  Q1 = df[feature].quantile(0.25)\n",
        "  Q3 = df[feature].quantile(0.75)\n",
        "  IQR = Q3 - Q1\n",
        "  cut_off = IQR * 1.5\n",
        "  lower = Q1 - cut_off\n",
        "  upper =  Q3 + cut_off\n",
        "  in_mask = (df[feature] < upper) & (df[feature] > lower)\n",
        "  c = 0\n",
        "  for b in in_mask:\n",
        "    if not(b) :\n",
        "      c+=1\n",
        "  plt.boxplot(df[feature])\n",
        "  plt.show()\n",
        "  return in_mask,c"
      ]
    },
    {
      "cell_type": "code",
      "execution_count": 169,
      "metadata": {
        "id": "rF3v0SL97phB"
      },
      "outputs": [],
      "source": [
        "def outlierZScore(df,feature,th=3):\n",
        "  z = np.abs(stats.zscore(df[feature]))\n",
        "  in_mask = z < th*z.std() + z.mean()\n",
        "  c = 0\n",
        "  for b in in_mask:\n",
        "    if not(b) :\n",
        "      c+=1\n",
        "  return in_mask,c\n",
        "\n",
        "  "
      ]
    },
    {
      "cell_type": "code",
      "execution_count": null,
      "metadata": {
        "id": "yqwCIwPYctHP"
      },
      "outputs": [],
      "source": []
    },
    {
      "attachments": {},
      "cell_type": "markdown",
      "metadata": {
        "id": "U9JLRY-udLIE"
      },
      "source": [
        "### outlier number_of_vehicles and number_of_casualties. Box method classified huge number of rows as outliers since it does not take int considtration the relation between features. LOF is the best with 160 recodes as outliers"
      ]
    },
    {
      "cell_type": "code",
      "execution_count": 170,
      "metadata": {
        "colab": {
          "base_uri": "https://localhost:8080/",
          "height": 265
        },
        "id": "xAcwGxzC-dDK",
        "outputId": "19b8cc25-25a2-40a2-ac3a-33d348135dd4"
      },
      "outputs": [
        {
          "data": {
            "image/png": "[encoded data removed]",
            "text/plain": [
              "<Figure size 640x480 with 1 Axes>"
            ]
          },
          "metadata": {},
          "output_type": "display_data"
        }
      ],
      "source": [
        "Box_in_mask_number_of_vehicles,Box_countOutliers_number_of_vehicles = outliersBox(df,'number_of_vehicles')"
      ]
    },
    {
      "cell_type": "code",
      "execution_count": 171,
      "metadata": {
        "colab": {
          "base_uri": "https://localhost:8080/"
        },
        "id": "g6pSQKvFAfpK",
        "outputId": "7e44a460-3246-4f80-970e-b6322ce9518a"
      },
      "outputs": [
        {
          "data": {
            "text/plain": [
              "3190"
            ]
          },
          "execution_count": 171,
          "metadata": {},
          "output_type": "execute_result"
        }
      ],
      "source": [
        "Box_countOutliers_number_of_vehicles"
      ]
    },
    {
      "cell_type": "code",
      "execution_count": 172,
      "metadata": {
        "colab": {
          "base_uri": "https://localhost:8080/",
          "height": 265
        },
        "id": "G_jfI-FhAl_7",
        "outputId": "1c8645f6-4683-4a13-8fd3-997686ebd9e2"
      },
      "outputs": [
        {
          "data": {
            "image/png": "[encoded data removed]",
            "text/plain": [
              "<Figure size 640x480 with 1 Axes>"
            ]
          },
          "metadata": {},
          "output_type": "display_data"
        }
      ],
      "source": [
        "Box_in_mask_number_of_casualties,Box_countOutliers_number_of_casualties = outliersBox(df,'number_of_casualties')"
      ]
    },
    {
      "cell_type": "code",
      "execution_count": 173,
      "metadata": {
        "colab": {
          "base_uri": "https://localhost:8080/"
        },
        "id": "PDuvdnl9AskL",
        "outputId": "c4564958-255a-4c95-ff01-3fd18580a32c"
      },
      "outputs": [
        {
          "data": {
            "text/plain": [
              "143234"
            ]
          },
          "execution_count": 173,
          "metadata": {},
          "output_type": "execute_result"
        }
      ],
      "source": [
        "Box_countOutliers_number_of_casualties"
      ]
    },
    {
      "cell_type": "code",
      "execution_count": 174,
      "metadata": {
        "colab": {
          "base_uri": "https://localhost:8080/",
          "height": 731
        },
        "id": "CQ5JagGQaN4n",
        "outputId": "ae4fd8b1-9091-4044-88fe-f1ca85e74940"
      },
      "outputs": [
        {
          "data": {
            "image/png": "[encoded data removed]",
            "text/plain": [
              "<Figure size 1200x1200 with 1 Axes>"
            ]
          },
          "metadata": {},
          "output_type": "display_data"
        }
      ],
      "source": [
        "LOF_in_mask_number_of_vehicles_number_of_casualties,LOF_countOutliers_number_of_vehicles_number_of_casualties = outliersLOF(df,'number_of_vehicles','number_of_casualties')"
      ]
    },
    {
      "cell_type": "code",
      "execution_count": 175,
      "metadata": {
        "colab": {
          "base_uri": "https://localhost:8080/"
        },
        "id": "YLRxoU1BenPQ",
        "outputId": "1b7aaf6a-2020-43df-ddc6-88263a447801"
      },
      "outputs": [
        {
          "data": {
            "text/plain": [
              "160"
            ]
          },
          "execution_count": 175,
          "metadata": {},
          "output_type": "execute_result"
        }
      ],
      "source": [
        "LOF_countOutliers_number_of_vehicles_number_of_casualties"
      ]
    },
    {
      "attachments": {},
      "cell_type": "markdown",
      "metadata": {
        "id": "HckKf75vdSAy"
      },
      "source": [
        "#### drop all outliers from LOF since all of them only 160"
      ]
    },
    {
      "cell_type": "code",
      "execution_count": 176,
      "metadata": {
        "id": "QuG-4qHZAFQK"
      },
      "outputs": [],
      "source": [
        "df = df[LOF_in_mask_number_of_vehicles_number_of_casualties]"
      ]
    },
    {
      "attachments": {},
      "cell_type": "markdown",
      "metadata": {
        "id": "iXXUwAdddgh6"
      },
      "source": [
        "### location features using Box plot"
      ]
    },
    {
      "attachments": {},
      "cell_type": "markdown",
      "metadata": {
        "id": "nW0JHngD-iMz"
      },
      "source": [
        "#### longitude"
      ]
    },
    {
      "cell_type": "code",
      "execution_count": 177,
      "metadata": {
        "colab": {
          "base_uri": "https://localhost:8080/",
          "height": 265
        },
        "id": "dcmAuj9bAFSf",
        "outputId": "65e3ad63-da40-4385-ea24-7c40cea220b7"
      },
      "outputs": [
        {
          "data": {
            "image/png": "[encoded data removed]",
            "text/plain": [
              "<Figure size 640x480 with 1 Axes>"
            ]
          },
          "metadata": {},
          "output_type": "display_data"
        }
      ],
      "source": [
        "Box_in_mask_longitude,Box_countOutliers_longitude = outliersBox(df,'longitude')"
      ]
    },
    {
      "cell_type": "code",
      "execution_count": 178,
      "metadata": {
        "colab": {
          "base_uri": "https://localhost:8080/"
        },
        "id": "RBZdLF_OAFVH",
        "outputId": "e17e310c-3da2-46e7-95e5-9d167e63b079"
      },
      "outputs": [
        {
          "data": {
            "text/plain": [
              "285"
            ]
          },
          "execution_count": 178,
          "metadata": {},
          "output_type": "execute_result"
        }
      ],
      "source": [
        "Box_countOutliers_longitude"
      ]
    },
    {
      "cell_type": "code",
      "execution_count": 179,
      "metadata": {
        "id": "zx7qpl6G-EyF"
      },
      "outputs": [],
      "source": [
        "Z_in_mask_longitude,Z_countOutliers_longitude =outlierZScore(df,'longitude',th=3)"
      ]
    },
    {
      "cell_type": "code",
      "execution_count": 180,
      "metadata": {
        "colab": {
          "base_uri": "https://localhost:8080/"
        },
        "id": "mhzmjYFL-NMe",
        "outputId": "a52d4fbc-86cd-4b72-8976-ba92272c76ae"
      },
      "outputs": [
        {
          "data": {
            "text/plain": [
              "1252"
            ]
          },
          "execution_count": 180,
          "metadata": {},
          "output_type": "execute_result"
        }
      ],
      "source": [
        "Z_countOutliers_longitude"
      ]
    },
    {
      "cell_type": "code",
      "execution_count": null,
      "metadata": {
        "id": "J9AB-LNz-SHe"
      },
      "outputs": [],
      "source": []
    },
    {
      "cell_type": "code",
      "execution_count": 181,
      "metadata": {
        "id": "QrEvuLEI-SPP"
      },
      "outputs": [],
      "source": [
        "Z_in_mask_longitude,Z_countOutliers_longitude =outlierZScore(df,'longitude',th=4)"
      ]
    },
    {
      "cell_type": "code",
      "execution_count": 182,
      "metadata": {
        "colab": {
          "base_uri": "https://localhost:8080/"
        },
        "id": "ZNP0m9Je-SPS",
        "outputId": "811e9255-d042-41c9-f493-57c3116a9cb7"
      },
      "outputs": [
        {
          "data": {
            "text/plain": [
              "84"
            ]
          },
          "execution_count": 182,
          "metadata": {},
          "output_type": "execute_result"
        }
      ],
      "source": [
        "Z_countOutliers_longitude"
      ]
    },
    {
      "attachments": {},
      "cell_type": "markdown",
      "metadata": {
        "id": "1v7060av-h8S"
      },
      "source": [
        "drop all outliers (from ZScore method with th = 4) since outliers represent only 0.06%"
      ]
    },
    {
      "cell_type": "code",
      "execution_count": 183,
      "metadata": {
        "id": "zb4o4iQK9vME"
      },
      "outputs": [],
      "source": [
        "df = df[Z_in_mask_longitude]"
      ]
    },
    {
      "attachments": {},
      "cell_type": "markdown",
      "metadata": {
        "id": "GmGpArSf-5_k"
      },
      "source": [
        "#### latitude"
      ]
    },
    {
      "cell_type": "code",
      "execution_count": 184,
      "metadata": {
        "colab": {
          "base_uri": "https://localhost:8080/",
          "height": 265
        },
        "id": "akpTrdktDBwR",
        "outputId": "d479574f-1665-4a69-b30d-93c25c842291"
      },
      "outputs": [
        {
          "data": {
            "image/png": "[encoded data removed]",
            "text/plain": [
              "<Figure size 640x480 with 1 Axes>"
            ]
          },
          "metadata": {},
          "output_type": "display_data"
        }
      ],
      "source": [
        "Box_in_mask_latitude,Box_countOutliers_latitude = outliersBox(df,'latitude')"
      ]
    },
    {
      "cell_type": "code",
      "execution_count": 185,
      "metadata": {
        "colab": {
          "base_uri": "https://localhost:8080/"
        },
        "id": "HJ0EDHTUDEra",
        "outputId": "18a3dbca-e007-4b90-f24f-6c5a35af295b"
      },
      "outputs": [
        {
          "data": {
            "text/plain": [
              "1739"
            ]
          },
          "execution_count": 185,
          "metadata": {},
          "output_type": "execute_result"
        }
      ],
      "source": [
        "Box_countOutliers_latitude"
      ]
    },
    {
      "cell_type": "code",
      "execution_count": 186,
      "metadata": {
        "id": "1L0oYr9J_B1F"
      },
      "outputs": [],
      "source": [
        "Z_in_mask_latitude,Z_countOutliers_latitude =outlierZScore(df,'latitude',th=3)"
      ]
    },
    {
      "cell_type": "code",
      "execution_count": 187,
      "metadata": {
        "colab": {
          "base_uri": "https://localhost:8080/"
        },
        "id": "XepNtoL-_B1L",
        "outputId": "d4ab231b-f070-4350-a694-c7d0870b1486"
      },
      "outputs": [
        {
          "data": {
            "text/plain": [
              "2062"
            ]
          },
          "execution_count": 187,
          "metadata": {},
          "output_type": "execute_result"
        }
      ],
      "source": [
        "Z_countOutliers_latitude"
      ]
    },
    {
      "cell_type": "code",
      "execution_count": 188,
      "metadata": {
        "id": "AH-F4PF2_ItQ"
      },
      "outputs": [],
      "source": [
        "Z_in_mask_latitude,Z_countOutliers_latitude =outlierZScore(df,'latitude',th=5)"
      ]
    },
    {
      "cell_type": "code",
      "execution_count": 189,
      "metadata": {
        "colab": {
          "base_uri": "https://localhost:8080/"
        },
        "id": "xO3wTaMm_ItR",
        "outputId": "f81dc805-6fac-446f-c2f7-37adaf1b7e02"
      },
      "outputs": [
        {
          "data": {
            "text/plain": [
              "120"
            ]
          },
          "execution_count": 189,
          "metadata": {},
          "output_type": "execute_result"
        }
      ],
      "source": [
        "Z_countOutliers_latitude"
      ]
    },
    {
      "attachments": {},
      "cell_type": "markdown",
      "metadata": {
        "id": "gW-AEoKg-xJ7"
      },
      "source": [
        "drop all outliers (from ZScore method with th = 4) since outliers represent only 0.1%"
      ]
    },
    {
      "cell_type": "code",
      "execution_count": 190,
      "metadata": {
        "id": "epqf_-w0-Jiz"
      },
      "outputs": [],
      "source": [
        "df = df[Box_in_mask_latitude]"
      ]
    },
    {
      "attachments": {},
      "cell_type": "markdown",
      "metadata": {
        "id": "FNRxoWK5-1nK"
      },
      "source": [
        "same outliers for location_easting_osgr and location_northing_osgr because of the strong correlation between them"
      ]
    },
    {
      "cell_type": "code",
      "execution_count": null,
      "metadata": {
        "id": "hYZw-JfH3Z3L"
      },
      "outputs": [],
      "source": []
    },
    {
      "attachments": {},
      "cell_type": "markdown",
      "metadata": {
        "id": "N9fhnDxE_C5i"
      },
      "source": [
        "### speed_limit"
      ]
    },
    {
      "cell_type": "code",
      "execution_count": 191,
      "metadata": {
        "colab": {
          "base_uri": "https://localhost:8080/",
          "height": 265
        },
        "id": "LRpQ4bv0_gI9",
        "outputId": "c9586414-5c33-4021-a146-5b465921e6c7"
      },
      "outputs": [
        {
          "data": {
            "image/png": "[encoded data removed]",
            "text/plain": [
              "<Figure size 640x480 with 1 Axes>"
            ]
          },
          "metadata": {},
          "output_type": "display_data"
        }
      ],
      "source": [
        "Box_in_mask_speed_limit,Box_countOutliers_speed_limit = outliersBox(df,'speed_limit')"
      ]
    },
    {
      "cell_type": "code",
      "execution_count": 192,
      "metadata": {
        "colab": {
          "base_uri": "https://localhost:8080/"
        },
        "id": "CITKahLa_lVj",
        "outputId": "9532a0e0-7a56-4e74-db0a-f567f9bc1971"
      },
      "outputs": [
        {
          "data": {
            "text/plain": [
              "28650"
            ]
          },
          "execution_count": 192,
          "metadata": {},
          "output_type": "execute_result"
        }
      ],
      "source": [
        "Box_countOutliers_speed_limit"
      ]
    },
    {
      "cell_type": "code",
      "execution_count": 193,
      "metadata": {
        "id": "lgEl8zxT_Lmq"
      },
      "outputs": [],
      "source": [
        "Z_in_mask_speed_limit,Z_countOutliers_speed_limit = outlierZScore(df,'speed_limit')"
      ]
    },
    {
      "cell_type": "code",
      "execution_count": 194,
      "metadata": {
        "colab": {
          "base_uri": "https://localhost:8080/"
        },
        "id": "vIl_MIWb_Lsb",
        "outputId": "b37d80ac-87ad-483d-876e-4af051e4734f"
      },
      "outputs": [
        {
          "data": {
            "text/plain": [
              "0"
            ]
          },
          "execution_count": 194,
          "metadata": {},
          "output_type": "execute_result"
        }
      ],
      "source": [
        "Z_countOutliers_speed_limit"
      ]
    },
    {
      "attachments": {},
      "cell_type": "markdown",
      "metadata": {
        "id": "tKYlu5kM_qM0"
      },
      "source": [
        "Box plot method classify all speeds more then 50 as outliers which is not correct.\n",
        "so Z score more accurate"
      ]
    },
    {
      "attachments": {},
      "cell_type": "markdown",
      "metadata": {
        "id": "wUqgCeEmXZ4Q"
      },
      "source": [
        "# Duplicates"
      ]
    },
    {
      "cell_type": "code",
      "execution_count": 195,
      "metadata": {
        "colab": {
          "base_uri": "https://localhost:8080/"
        },
        "id": "6r7w1dziXfCe",
        "outputId": "0b7f9325-d7db-4c4b-9562-348dfce7f0ed"
      },
      "outputs": [
        {
          "data": {
            "text/plain": [
              "5"
            ]
          },
          "execution_count": 195,
          "metadata": {},
          "output_type": "execute_result"
        }
      ],
      "source": [
        "duplicates = df[df.duplicated(subset=['longitude','latitude','date','time'])]\n",
        "len(duplicates)"
      ]
    },
    {
      "cell_type": "code",
      "execution_count": 196,
      "metadata": {
        "id": "1Llzl1TeX2nS"
      },
      "outputs": [],
      "source": [
        "df = df.drop_duplicates(subset=['longitude','latitude','date','time'])"
      ]
    },
    {
      "attachments": {},
      "cell_type": "markdown",
      "metadata": {
        "id": "ywoOVEZPX4vR"
      },
      "source": [
        "any two accidents in the same location and same date and time considered as a dup;icated so we drop "
      ]
    },
    {
      "attachments": {},
      "cell_type": "markdown",
      "metadata": {
        "id": "46qXctHdiD_L"
      },
      "source": [
        "# Encoding"
      ]
    },
    {
      "cell_type": "code",
      "execution_count": 197,
      "metadata": {
        "id": "34GGbd_ziC0v"
      },
      "outputs": [],
      "source": [
        "def convert_date_time_week(df):\n",
        "  result = df.copy()\n",
        "  day=[]\n",
        "  month=[]\n",
        "  week=[]\n",
        "  hour =[]\n",
        "  minute= []\n",
        "  for i in range(0,df.shape[0]):\n",
        "    date_object = datetime.strptime(result['date'][i],'%d/%m/%Y')\n",
        "    day.append(date_object.day)\n",
        "    month.append(date_object.month)\n",
        "    week.append(date_object.isocalendar()[1])\n",
        "    time_object = datetime.strptime(result['time'][i],'%H:%M')\n",
        "    hour.append(time_object.hour)\n",
        "    minute.append(time_object.minute)\n",
        "  df['day'] = day\n",
        "  df['month'] = month\n",
        "  df['hour']=hour\n",
        "  df['minute'] = minute"
      ]
    },
    {
      "cell_type": "code",
      "execution_count": 198,
      "metadata": {
        "id": "v2-Nl_poiLa7"
      },
      "outputs": [],
      "source": [
        "convert_date_time_week(df)"
      ]
    },
    {
      "cell_type": "code",
      "execution_count": null,
      "metadata": {
        "id": "JNRpzVK1iRsq"
      },
      "outputs": [],
      "source": []
    },
    {
      "cell_type": "code",
      "execution_count": 199,
      "metadata": {
        "id": "OKVGvb0viR0A"
      },
      "outputs": [],
      "source": [
        "def number_encode_features(df,feature,mapping):\n",
        "    result = df.copy() # take a copy of the dataframe\n",
        "    map = []\n",
        "    for x in df[feature]:\n",
        "      map.append(mapping[x])\n",
        "    result[feature+'_encoding'] = np.array(map)\n",
        "    return result"
      ]
    },
    {
      "cell_type": "code",
      "execution_count": 200,
      "metadata": {
        "id": "INlxWEReFj3D"
      },
      "outputs": [],
      "source": [
        "def one_hot_encoding(df,feature,drop_col=None,prefix=None):\n",
        "  result = pd.get_dummies(df[feature])\n",
        "  if drop_col!=None:\n",
        "    result = result.drop([drop_col],axis=1)\n",
        "  if prefix==None:\n",
        "    prefix = feature\n",
        "    \n",
        "  result = result.add_prefix(prefix+'_')\n",
        "  res = pd.concat([df, result], axis = 1)\n",
        "  return res\n"
      ]
    },
    {
      "cell_type": "code",
      "execution_count": 201,
      "metadata": {
        "id": "BXs5wAHfHCwo"
      },
      "outputs": [],
      "source": [
        "def calculate_top_categories(df, variable, how_many):\n",
        "    return [\n",
        "        x for x in df[variable].value_counts().sort_values(\n",
        "            ascending=False).head(how_many).index\n",
        "    ]\n",
        "\n",
        "def one_hot_encode_frequent(df, variable, how_many):\n",
        "    result = df.copy()\n",
        "    top_x_labels = calculate_top_categories(result, variable, how_many)\n",
        "    for label in top_x_labels:\n",
        "        result[variable + '_' + label] = np.where(\n",
        "            result[variable] == label, 1, 0) \n",
        "    return result"
      ]
    },
    {
      "cell_type": "code",
      "execution_count": 202,
      "metadata": {
        "id": "cwsMTGGui3Xy"
      },
      "outputs": [],
      "source": [
        "def generateLabelsMapping(df,feature):\n",
        "  x = df[feature].unique()\n",
        "  map = {}\n",
        "  n = 0\n",
        "  for i in x:\n",
        "    map[i] = n\n",
        "    n+=1\n",
        "  return map\n"
      ]
    },
    {
      "attachments": {},
      "cell_type": "markdown",
      "metadata": {
        "id": "kI4B4BYRi38K"
      },
      "source": [
        "### accident_severity label encoding feature is ordinal"
      ]
    },
    {
      "cell_type": "code",
      "execution_count": 206,
      "metadata": {
        "colab": {
          "base_uri": "https://localhost:8080/"
        },
        "id": "8RJd1XMVi3cS",
        "outputId": "1f807452-f444-4d59-ba0b-d84990f82854"
      },
      "outputs": [
        {
          "data": {
            "text/plain": [
              "array(['Slight', 'Serious', 'Fatal'], dtype=object)"
            ]
          },
          "execution_count": 206,
          "metadata": {},
          "output_type": "execute_result"
        }
      ],
      "source": [
        "df['accident_severity'].unique()"
      ]
    },
    {
      "cell_type": "code",
      "execution_count": 208,
      "metadata": {
        "id": "rrcdF-9Xi3fS"
      },
      "outputs": [],
      "source": [
        "mapping_accident_severity={'Slight':0, 'Serious':1, 'Fatal':2}\n",
        "df = number_encode_features(df,'accident_severity',mapping_accident_severity)\n",
        "add_to_col_drop('accident_severity')"
      ]
    },
    {
      "attachments": {},
      "cell_type": "markdown",
      "metadata": {
        "id": "ubeXrLHCj7oK"
      },
      "source": [
        "### day_of_week endcoded with one hot encoding k-1 the feature not ordinal"
      ]
    },
    {
      "cell_type": "code",
      "execution_count": 209,
      "metadata": {
        "id": "Gzq9PGe0jarG"
      },
      "outputs": [],
      "source": [
        "df = one_hot_encoding(df,'day_of_week','Friday')"
      ]
    },
    {
      "cell_type": "code",
      "execution_count": 211,
      "metadata": {
        "id": "Jf5oq4CEucX4"
      },
      "outputs": [],
      "source": [
        "add_to_col_drop('day_of_week')"
      ]
    },
    {
      "attachments": {},
      "cell_type": "markdown",
      "metadata": {
        "id": "NpIhHxe5kefo"
      },
      "source": [
        "### first_road_class endcoded with one hot encoding k-1 the feature not ordinal"
      ]
    },
    {
      "cell_type": "code",
      "execution_count": 212,
      "metadata": {
        "id": "YHmCcRWOj3gw"
      },
      "outputs": [],
      "source": [
        "df = one_hot_encoding(df,'first_road_class','Unclassified')"
      ]
    },
    {
      "cell_type": "code",
      "execution_count": 213,
      "metadata": {
        "id": "U7q-eXNXxN2t"
      },
      "outputs": [],
      "source": [
        "add_to_col_drop('first_road_class')"
      ]
    },
    {
      "attachments": {},
      "cell_type": "markdown",
      "metadata": {
        "id": "ZIJtNHMikolm"
      },
      "source": [
        "### road_type endcoded with one hot encoding k-1 the feature not ordinal"
      ]
    },
    {
      "cell_type": "code",
      "execution_count": 214,
      "metadata": {
        "id": "CWNhSjifkn0O"
      },
      "outputs": [],
      "source": [
        "df = one_hot_encoding(df,'road_type','Slip road')"
      ]
    },
    {
      "cell_type": "code",
      "execution_count": 215,
      "metadata": {
        "id": "YJMt-rvKxXw8"
      },
      "outputs": [],
      "source": [
        "add_to_col_drop('road_type')"
      ]
    },
    {
      "attachments": {},
      "cell_type": "markdown",
      "metadata": {
        "id": "Q4CFoFVwk8rT"
      },
      "source": [
        "### junction_detail endcoded with one hot encoding the most 5 frequent values since the remaining represent small value. the feature not ordinal"
      ]
    },
    {
      "cell_type": "code",
      "execution_count": 216,
      "metadata": {
        "id": "63k2aRAJk76E"
      },
      "outputs": [],
      "source": [
        "df = one_hot_encode_frequent(df, 'junction_detail', 5)"
      ]
    },
    {
      "cell_type": "code",
      "execution_count": 217,
      "metadata": {
        "id": "zqbu8-vcyQQG"
      },
      "outputs": [],
      "source": [
        "add_to_col_drop('junction_detail')"
      ]
    },
    {
      "attachments": {},
      "cell_type": "markdown",
      "metadata": {
        "id": "tMyfCN4plUgW"
      },
      "source": [
        "###junction_control endcoded with one hot encoding the most 3 frequent values since the remaining represent small value. the feature not ordinal"
      ]
    },
    {
      "cell_type": "code",
      "execution_count": 218,
      "metadata": {
        "id": "y9CdXHAMlTrb"
      },
      "outputs": [],
      "source": [
        "df = one_hot_encode_frequent(df, 'junction_control', 3)"
      ]
    },
    {
      "cell_type": "code",
      "execution_count": 219,
      "metadata": {
        "id": "OIAdKFsVyYYY"
      },
      "outputs": [],
      "source": [
        "add_to_col_drop('junction_control')"
      ]
    },
    {
      "attachments": {},
      "cell_type": "markdown",
      "metadata": {
        "id": "59Isr3Umle98"
      },
      "source": [
        "### second_road_class endcoded with one hot encoding k-1 the feature not ordinal"
      ]
    },
    {
      "cell_type": "code",
      "execution_count": 220,
      "metadata": {
        "id": "JRPVlcAZlZtB"
      },
      "outputs": [],
      "source": [
        "df = one_hot_encoding(df,'second_road_class','Unclassified')"
      ]
    },
    {
      "cell_type": "code",
      "execution_count": 221,
      "metadata": {
        "id": "CqwBh7zoygYb"
      },
      "outputs": [],
      "source": [
        "add_to_col_drop('second_road_class')"
      ]
    },
    {
      "attachments": {},
      "cell_type": "markdown",
      "metadata": {
        "id": "3qvTlkCnltAL"
      },
      "source": [
        "### pedestrian_crossing_human_control endcoded with one hot encoding the most frequent value since the remaining represent small value. the feature not ordinal"
      ]
    },
    {
      "cell_type": "code",
      "execution_count": 222,
      "metadata": {
        "id": "kNMfw7uLlsQ4"
      },
      "outputs": [],
      "source": [
        "df = one_hot_encode_frequent(df,'pedestrian_crossing_human_control',1)"
      ]
    },
    {
      "cell_type": "code",
      "execution_count": 223,
      "metadata": {
        "id": "SYthIAfGyqic"
      },
      "outputs": [],
      "source": [
        "add_to_col_drop('pedestrian_crossing_human_control')"
      ]
    },
    {
      "attachments": {},
      "cell_type": "markdown",
      "metadata": {
        "id": "3jrYzk_rlzti"
      },
      "source": [
        "### pedestrian_crossing_physical_facilities endcoded with one hot encoding the most 3 frequent values since the remaining represent small value. the feature not ordinal"
      ]
    },
    {
      "cell_type": "code",
      "execution_count": 224,
      "metadata": {
        "id": "I9fyWPIfl9eb"
      },
      "outputs": [],
      "source": [
        "df = one_hot_encode_frequent(df,'pedestrian_crossing_physical_facilities',3)"
      ]
    },
    {
      "cell_type": "code",
      "execution_count": 225,
      "metadata": {
        "id": "Xcg7V6Kty0B9"
      },
      "outputs": [],
      "source": [
        "add_to_col_drop('pedestrian_crossing_physical_facilities')"
      ]
    },
    {
      "attachments": {},
      "cell_type": "markdown",
      "metadata": {
        "id": "eUxUjdoEmDgS"
      },
      "source": [
        "### light_conditions label encoding feature is ordinal"
      ]
    },
    {
      "cell_type": "code",
      "execution_count": 226,
      "metadata": {
        "colab": {
          "base_uri": "https://localhost:8080/"
        },
        "id": "FE5zMuunmQR5",
        "outputId": "9da6edcf-4949-49cb-aed4-c83c691d3ffc"
      },
      "outputs": [
        {
          "data": {
            "text/plain": [
              "array(['Daylight', 'Darkness - lighting unknown', 'Darkness - lights lit',\n",
              "       'Darkness - lights unlit', 'Darkness - no lighting'], dtype=object)"
            ]
          },
          "execution_count": 226,
          "metadata": {},
          "output_type": "execute_result"
        }
      ],
      "source": [
        "df.light_conditions.unique()"
      ]
    },
    {
      "cell_type": "code",
      "execution_count": 227,
      "metadata": {
        "id": "EG6ulgSemYw7"
      },
      "outputs": [],
      "source": [
        "mapping_light_conditions = {'Daylight':0, 'Darkness - lighting unknown':1, 'Darkness - lights lit':2,\n",
        "       'Darkness - lights unlit':3, 'Darkness - no lighting':4}"
      ]
    },
    {
      "cell_type": "code",
      "execution_count": 228,
      "metadata": {
        "id": "RWlVq6wYmDrY"
      },
      "outputs": [],
      "source": [
        "df = number_encode_features(df,'light_conditions',mapping_light_conditions)"
      ]
    },
    {
      "cell_type": "code",
      "execution_count": 229,
      "metadata": {
        "id": "Kk5rFyk3y70u"
      },
      "outputs": [],
      "source": [
        "add_to_col_drop('light_conditions')"
      ]
    },
    {
      "attachments": {},
      "cell_type": "markdown",
      "metadata": {
        "id": "9geJYMOrmvU6"
      },
      "source": [
        "### weather_conditions endcoded with one hot encoding the most 2 frequent values since the remaining represent small value. the feature not ordinal"
      ]
    },
    {
      "cell_type": "code",
      "execution_count": 230,
      "metadata": {
        "id": "bzhNSMI-muwc"
      },
      "outputs": [],
      "source": [
        "df = one_hot_encode_frequent(df,'weather_conditions',2)"
      ]
    },
    {
      "cell_type": "code",
      "execution_count": 231,
      "metadata": {
        "id": "1mLXCcz8zJrV"
      },
      "outputs": [],
      "source": [
        "add_to_col_drop('weather_conditions')"
      ]
    },
    {
      "attachments": {},
      "cell_type": "markdown",
      "metadata": {
        "id": "4sHU4z-Im7gZ"
      },
      "source": [
        "### road_surface_conditions endcoded with one hot encoding the most 2 frequent values since the remaining represent small value. the feature not ordinal"
      ]
    },
    {
      "cell_type": "code",
      "execution_count": 232,
      "metadata": {
        "id": "tjZchqkLm7BE"
      },
      "outputs": [],
      "source": [
        "df = one_hot_encode_frequent(df,'road_surface_conditions',2)"
      ]
    },
    {
      "cell_type": "code",
      "execution_count": 233,
      "metadata": {
        "id": "d3wmM5n2zX90"
      },
      "outputs": [],
      "source": [
        "add_to_col_drop('road_surface_conditions')"
      ]
    },
    {
      "attachments": {},
      "cell_type": "markdown",
      "metadata": {
        "id": "AlsC-9ZxnDNR"
      },
      "source": [
        "### special_conditions_at_site endcoded with one hot encoding the most frequent value since the remaining represent small value. the feature not ordinal"
      ]
    },
    {
      "cell_type": "code",
      "execution_count": 234,
      "metadata": {
        "id": "VHBWIs1-nDYd"
      },
      "outputs": [],
      "source": [
        "df = one_hot_encode_frequent(df,'special_conditions_at_site',1)"
      ]
    },
    {
      "cell_type": "code",
      "execution_count": 235,
      "metadata": {
        "id": "fyF6GxUOzdKG"
      },
      "outputs": [],
      "source": [
        "add_to_col_drop('special_conditions_at_site')"
      ]
    },
    {
      "attachments": {},
      "cell_type": "markdown",
      "metadata": {
        "id": "Yqjqx0oZnN1o"
      },
      "source": [
        "### carriageway_hazards endcoded with one hot encoding the most frequent value since the remaining represent small value. the feature not ordinal"
      ]
    },
    {
      "cell_type": "code",
      "execution_count": 236,
      "metadata": {
        "id": "Z9zpG3JUnP51"
      },
      "outputs": [],
      "source": [
        "df = one_hot_encode_frequent(df,'carriageway_hazards',1)"
      ]
    },
    {
      "cell_type": "code",
      "execution_count": 237,
      "metadata": {
        "id": "l2l05JMiziWc"
      },
      "outputs": [],
      "source": [
        "add_to_col_drop('carriageway_hazards')"
      ]
    },
    {
      "attachments": {},
      "cell_type": "markdown",
      "metadata": {
        "id": "ym4_YVkInWzg"
      },
      "source": [
        "### urban_or_rural_area endcoded with one hot encoding k-1 the feature not ordinal"
      ]
    },
    {
      "cell_type": "code",
      "execution_count": 238,
      "metadata": {
        "id": "fVIxSx9JnWGi"
      },
      "outputs": [],
      "source": [
        "df = one_hot_encoding(df,'urban_or_rural_area','Urban')"
      ]
    },
    {
      "cell_type": "code",
      "execution_count": 239,
      "metadata": {
        "id": "QIdSLG0k0DBV"
      },
      "outputs": [],
      "source": [
        "add_to_col_drop('urban_or_rural_area')"
      ]
    },
    {
      "attachments": {},
      "cell_type": "markdown",
      "metadata": {
        "id": "LLU204Rinfbh"
      },
      "source": [
        "### did_police_officer_attend_scene_of_accident endcoded with one hot encoding k-1 the feature not ordinal"
      ]
    },
    {
      "cell_type": "code",
      "execution_count": 240,
      "metadata": {
        "id": "dF3D6OHhnh0J"
      },
      "outputs": [],
      "source": [
        "df = one_hot_encoding(df,'did_police_officer_attend_scene_of_accident','No')"
      ]
    },
    {
      "cell_type": "code",
      "execution_count": 241,
      "metadata": {
        "id": "eobo4Twh0JgV"
      },
      "outputs": [],
      "source": [
        "add_to_col_drop('did_police_officer_attend_scene_of_accident')"
      ]
    },
    {
      "attachments": {},
      "cell_type": "markdown",
      "metadata": {
        "id": "8NvKXGyN09GB"
      },
      "source": [
        "### police_force encoded with label encoding methed the feature not ordinal but it has huge number of unique values so one hot encoding will consume huge memory space. The percentage of unique values almost have no differance so we can not use freqent version of one hot encoding\n"
      ]
    },
    {
      "cell_type": "code",
      "execution_count": 242,
      "metadata": {
        "id": "z8IpVKvZo5lz"
      },
      "outputs": [],
      "source": [
        "df = number_encode_features(df,'police_force',generateLabelsMapping(df,'police_force'))"
      ]
    },
    {
      "cell_type": "code",
      "execution_count": 243,
      "metadata": {
        "id": "0XkSsBwg0cbz"
      },
      "outputs": [],
      "source": [
        "add_to_col_drop('police_force')"
      ]
    },
    {
      "attachments": {},
      "cell_type": "markdown",
      "metadata": {
        "id": "H6Oi8qDYMBwS"
      },
      "source": [
        "### trunck road flag endcoded with one hot encoding k-1 the feature not ordinal it almost binary two values"
      ]
    },
    {
      "cell_type": "code",
      "execution_count": 244,
      "metadata": {
        "id": "7vvZOMAdMUxH"
      },
      "outputs": [],
      "source": [
        "df = one_hot_encoding(df,'trunk_road_flag','Non-trunk')"
      ]
    },
    {
      "cell_type": "code",
      "execution_count": 245,
      "metadata": {
        "id": "hWvMBKZsMnXf"
      },
      "outputs": [],
      "source": [
        "add_to_col_drop('trunk_road_flag')"
      ]
    },
    {
      "attachments": {},
      "cell_type": "markdown",
      "metadata": {
        "id": "2lnQwiZc2_VR"
      },
      "source": [
        "### local_authority_district, local_authority_highway and lsoa_of_accident_location same as police force"
      ]
    },
    {
      "cell_type": "code",
      "execution_count": 246,
      "metadata": {
        "id": "L0xSIYuE3Ita"
      },
      "outputs": [],
      "source": [
        "df = number_encode_features(df,'local_authority_district',generateLabelsMapping(df,'local_authority_district'))"
      ]
    },
    {
      "cell_type": "code",
      "execution_count": 247,
      "metadata": {
        "id": "Yi3tnKYd0hvN"
      },
      "outputs": [],
      "source": [
        "add_to_col_drop('local_authority_district')"
      ]
    },
    {
      "cell_type": "code",
      "execution_count": 248,
      "metadata": {
        "id": "htJySFNJ3Mz6"
      },
      "outputs": [],
      "source": [
        "df = number_encode_features(df,'local_authority_highway',generateLabelsMapping(df,'local_authority_highway'))"
      ]
    },
    {
      "cell_type": "code",
      "execution_count": 249,
      "metadata": {
        "id": "SQNPvFZi0nlP"
      },
      "outputs": [],
      "source": [
        "add_to_col_drop('local_authority_highway')"
      ]
    },
    {
      "attachments": {},
      "cell_type": "markdown",
      "metadata": {
        "id": "VhiRWd9Sx9ih"
      },
      "source": [
        "# Discretization"
      ]
    },
    {
      "cell_type": "code",
      "execution_count": 250,
      "metadata": {
        "id": "FUlpkMYKuvWR"
      },
      "outputs": [],
      "source": [
        "def parsing_road(x):\n",
        "  return int(float(x))\n",
        "def parsing_LSOA(x):\n",
        "  return int(float(x[2:]))\n",
        "\n",
        "def intervals(df,feature,number_of_labels,fun = parsing_road):\n",
        "  x = df[feature].unique()\n",
        "  y = []\n",
        "  for a in x:\n",
        "    y.append(fun(a))\n",
        "  y.sort()\n",
        "  step = (len(y)//number_of_labels)+1\n",
        "  intervals = [y[0]]\n",
        "  i = step\n",
        "  while i<len(y):\n",
        "    intervals.append(y[i])\n",
        "    i+=step\n",
        "  if intervals[-1]==y[-1]:\n",
        "    intervals[-1] = intervals[-1] +1\n",
        "  else:\n",
        "    intervals.append(y[-1]+1)\n",
        "  return intervals"
      ]
    },
    {
      "cell_type": "code",
      "execution_count": null,
      "metadata": {
        "id": "mnkrZRZAFTtE"
      },
      "outputs": [],
      "source": []
    },
    {
      "cell_type": "code",
      "execution_count": 251,
      "metadata": {
        "id": "7lf3rk_NswJG"
      },
      "outputs": [],
      "source": [
        "def discretize(df,feature,intervals,fun= parsing_road,offset=0):\n",
        "  result = df.copy()\n",
        "  res = []\n",
        "  for x in df[feature]:\n",
        "    x = fun(x)\n",
        "    for i in range(1,len(intervals)):\n",
        "      if intervals[i]>x:\n",
        "        res.append(i-1)\n",
        "        break\n",
        "  result[feature+'_encoding'] = np.array(res)\n",
        "  return result"
      ]
    },
    {
      "cell_type": "code",
      "execution_count": 252,
      "metadata": {
        "id": "eFYMaKmUJq13"
      },
      "outputs": [],
      "source": [
        "def discretizeLSOA(df,number_of_labels,add_csv=True):\n",
        "  result = df.copy()\n",
        "  res = []\n",
        "  intervalsW,intervalsE = intervalsLSOA(result,number_of_labels)\n",
        "  for i in tqdm(range(0,len(result))):\n",
        "    x = result.iloc[i]['lsoa_of_accident_location']\n",
        "    if x=='-1':\n",
        "      res.append('-1')\n",
        "      continue\n",
        "    num = int(x[2:])\n",
        "    if x[0]=='W':\n",
        "      f = False\n",
        "      for i in range(1,len(intervalsW)):\n",
        "        if intervalsW[i]>num:\n",
        "          res.append(i-1)\n",
        "          f = True\n",
        "          break\n",
        "      if not(f):\n",
        "        print(x,'W')\n",
        "\n",
        "    elif x[0]=='E':\n",
        "      f = False\n",
        "      for i in range(0,len(intervalsE)):\n",
        "        if intervalsE[i]>num:\n",
        "          res.append(i-1+len(intervalsW))\n",
        "          f = True\n",
        "          break\n",
        "      if not(f):\n",
        "        print(x,'E')\n",
        "  if add_csv :\n",
        "    add_to_col_drop('lsoa_of_accident_location')\n",
        "  result['lsoa_of_accident_location_encoding'] = np.array(res)\n",
        "  return result"
      ]
    },
    {
      "cell_type": "code",
      "execution_count": 253,
      "metadata": {
        "id": "OUIahFP0KDnc"
      },
      "outputs": [],
      "source": [
        "def intervalsLSOA(df,number_of_labels):\n",
        "  w = []\n",
        "  e = []\n",
        "  for x in df.lsoa_of_accident_location:\n",
        "    if x=='-1':\n",
        "      continue\n",
        "    num = int(x[2:])\n",
        "    if (x[0]=='W') &(not(num in w)):\n",
        "      w.append(num)\n",
        "    elif (x[0]=='E') &(not(num in e)):\n",
        "      e.append(num)\n",
        "    elif (x[0]!='W') & (x[0]!='E'):\n",
        "      print(w)\n",
        "  w.sort()\n",
        "  e.sort()\n",
        "  intervalsW = getInterval(w,number_of_labels)\n",
        "  intervalsE = getInterval(e,number_of_labels)\n",
        "  return intervalsW,intervalsE\n",
        "\n"
      ]
    },
    {
      "cell_type": "code",
      "execution_count": 254,
      "metadata": {
        "id": "JNqFsr54Okb8"
      },
      "outputs": [],
      "source": [
        "def getInterval(y,number_of_labels):\n",
        "  step = (len(y)//number_of_labels)+1\n",
        "  intervals = [y[0]]\n",
        "  i = step\n",
        "  while i<len(y):\n",
        "    intervals.append(y[i])\n",
        "    i+=step\n",
        "  if intervals[-1]==y[-1]:\n",
        "    intervals[-1] = intervals[-1] +1\n",
        "  else:\n",
        "    intervals.append(y[-1]+1)\n",
        "  return intervals\n"
      ]
    },
    {
      "cell_type": "code",
      "execution_count": 255,
      "metadata": {
        "id": "WhmpsA1z2Dfe"
      },
      "outputs": [],
      "source": [
        "def add_intervals_to_csv(feature,intervals,offset = 0 , prefix=\"\"):\n",
        "  for i in range(0,len(intervals)-1):\n",
        "    add_to_csv_values(feature+'_encoding',str(int(i+offset)),feature+\" in intrval [\"+prefix+str(intervals[i])+\" , \"+prefix+str(intervals[i+1])+\"[\")\n"
      ]
    },
    {
      "attachments": {},
      "cell_type": "markdown",
      "metadata": {
        "id": "wDVqwthiyNSS"
      },
      "source": [
        "### First road and second road can be parsed to integers so can be discretized each interval with label since road numbers have huge number of unique values"
      ]
    },
    {
      "cell_type": "code",
      "execution_count": 256,
      "metadata": {
        "id": "GgqDljhYw5J3"
      },
      "outputs": [],
      "source": [
        "# df = discretize(df,'first_road_number',intervals(df,'first_road_number',15))"
      ]
    },
    {
      "cell_type": "code",
      "execution_count": 257,
      "metadata": {
        "id": "GK2mWnLPx07w"
      },
      "outputs": [],
      "source": [
        "# df = discretize(df,'second_road_number',intervals(df,'second_road_number',15))"
      ]
    },
    {
      "cell_type": "code",
      "execution_count": 258,
      "metadata": {
        "id": "dpYW36IL1Le3"
      },
      "outputs": [],
      "source": [
        "add_to_col_drop('first_road_number')\n",
        "add_to_col_drop('second_road_number')"
      ]
    },
    {
      "cell_type": "code",
      "execution_count": null,
      "metadata": {
        "id": "l1-nSkYT3d08"
      },
      "outputs": [],
      "source": []
    },
    {
      "attachments": {},
      "cell_type": "markdown",
      "metadata": {
        "id": "pkUDK-s43fKE"
      },
      "source": [
        "### lsoa_of_accident_location same as road number if we remove first char which 'w' or 'E' we can see the feature as integers and ordinal \n",
        "we discretize the feature with label for each interval"
      ]
    },
    {
      "cell_type": "code",
      "execution_count": 259,
      "metadata": {
        "colab": {
          "base_uri": "https://localhost:8080/"
        },
        "id": "tljxqJOiDjhr",
        "outputId": "d6b20045-a9e1-4046-c033-6f77589a16f8"
      },
      "outputs": [
        {
          "name": "stderr",
          "output_type": "stream",
          "text": [
            "100%|██████████| 141246/141246 [00:36<00:00, 3884.99it/s]\n"
          ]
        }
      ],
      "source": [
        "df = discretizeLSOA(df,20)"
      ]
    },
    {
      "attachments": {},
      "cell_type": "markdown",
      "metadata": {
        "id": "5-L0tNGRZ8CO"
      },
      "source": [
        "# Normalization"
      ]
    },
    {
      "cell_type": "code",
      "execution_count": 262,
      "metadata": {
        "id": "DmU6dh4Zg5ac"
      },
      "outputs": [],
      "source": [
        "def minMax(df):\n",
        "  for column in df.columns:\n",
        "    if df.dtypes[column] != np.object:\n",
        "      scaled = MinMaxScaler().fit_transform(df[[column]])\n",
        "      df[column] = scaled "
      ]
    },
    {
      "cell_type": "code",
      "execution_count": 263,
      "metadata": {
        "id": "0A4Nyqrmidcy"
      },
      "outputs": [],
      "source": [
        "def Box_Cox(df,feature):\n",
        "  index_of_positive = df[feature] > 0\n",
        "  positive_rows = df[feature].loc[index_of_positive]\n",
        "  normalized = stats.boxcox(positive_rows)[0]\n",
        "  fig, ax=plt.subplots(1,2)\n",
        "  sns.distplot(positive_rows, ax=ax[0])\n",
        "  ax[0].set_title(\"Original Data\")\n",
        "  sns.distplot(normalized, ax=ax[1])\n",
        "  ax[1].set_title(\"Normalized data\")\n",
        "  return normalized\n"
      ]
    },
    {
      "cell_type": "code",
      "execution_count": 264,
      "metadata": {
        "colab": {
          "base_uri": "https://localhost:8080/",
          "height": 428
        },
        "id": "DyQTXAuoaDyP",
        "outputId": "5fe174e0-b60c-4517-eca4-625dcf132ed4"
      },
      "outputs": [
        {
          "data": {
            "text/html": [
              "<div>\n",
              "<style scoped>\n",
              "    .dataframe tbody tr th:only-of-type {\n",
              "        vertical-align: middle;\n",
              "    }\n",
              "\n",
              "    .dataframe tbody tr th {\n",
              "        vertical-align: top;\n",
              "    }\n",
              "\n",
              "    .dataframe thead th {\n",
              "        text-align: right;\n",
              "    }\n",
              "</style>\n",
              "<table border=\"1\" class=\"dataframe\">\n",
              "  <thead>\n",
              "    <tr style=\"text-align: right;\">\n",
              "      <th></th>\n",
              "      <th>accident_year</th>\n",
              "      <th>location_easting_osgr</th>\n",
              "      <th>location_northing_osgr</th>\n",
              "      <th>longitude</th>\n",
              "      <th>latitude</th>\n",
              "      <th>number_of_vehicles</th>\n",
              "      <th>number_of_casualties</th>\n",
              "      <th>speed_limit</th>\n",
              "      <th>day</th>\n",
              "      <th>month</th>\n",
              "      <th>...</th>\n",
              "      <th>road_surface_conditions_Wet or damp</th>\n",
              "      <th>special_conditions_at_site_None</th>\n",
              "      <th>carriageway_hazards_None</th>\n",
              "      <th>urban_or_rural_area_Rural</th>\n",
              "      <th>did_police_officer_attend_scene_of_accident_Yes</th>\n",
              "      <th>police_force_encoding</th>\n",
              "      <th>trunk_road_flag_Trunk (Roads managed by Highways England)</th>\n",
              "      <th>local_authority_district_encoding</th>\n",
              "      <th>local_authority_highway_encoding</th>\n",
              "      <th>week_number_encoding</th>\n",
              "    </tr>\n",
              "  </thead>\n",
              "  <tbody>\n",
              "    <tr>\n",
              "      <th>count</th>\n",
              "      <td>141246.0</td>\n",
              "      <td>141246.000000</td>\n",
              "      <td>141246.000000</td>\n",
              "      <td>141246.000000</td>\n",
              "      <td>141246.000000</td>\n",
              "      <td>141246.000000</td>\n",
              "      <td>141246.000000</td>\n",
              "      <td>141246.000000</td>\n",
              "      <td>141246.000000</td>\n",
              "      <td>141246.000000</td>\n",
              "      <td>...</td>\n",
              "      <td>141246.000000</td>\n",
              "      <td>141246.000000</td>\n",
              "      <td>141246.000000</td>\n",
              "      <td>141246.000000</td>\n",
              "      <td>141246.000000</td>\n",
              "      <td>141246.000000</td>\n",
              "      <td>141246.000000</td>\n",
              "      <td>141246.000000</td>\n",
              "      <td>141246.000000</td>\n",
              "      <td>141246.000000</td>\n",
              "    </tr>\n",
              "    <tr>\n",
              "      <th>mean</th>\n",
              "      <td>2014.0</td>\n",
              "      <td>448435.060426</td>\n",
              "      <td>283647.963142</td>\n",
              "      <td>-1.306413</td>\n",
              "      <td>52.440454</td>\n",
              "      <td>1.835648</td>\n",
              "      <td>1.325036</td>\n",
              "      <td>38.176515</td>\n",
              "      <td>15.510506</td>\n",
              "      <td>6.625703</td>\n",
              "      <td>...</td>\n",
              "      <td>0.287074</td>\n",
              "      <td>0.978109</td>\n",
              "      <td>0.983766</td>\n",
              "      <td>0.339040</td>\n",
              "      <td>0.823613</td>\n",
              "      <td>18.725529</td>\n",
              "      <td>0.078416</td>\n",
              "      <td>157.859316</td>\n",
              "      <td>90.584809</td>\n",
              "      <td>1.930426</td>\n",
              "    </tr>\n",
              "    <tr>\n",
              "      <th>std</th>\n",
              "      <td>0.0</td>\n",
              "      <td>94486.104531</td>\n",
              "      <td>147157.820722</td>\n",
              "      <td>1.383973</td>\n",
              "      <td>1.325813</td>\n",
              "      <td>0.685026</td>\n",
              "      <td>0.746866</td>\n",
              "      <td>13.813652</td>\n",
              "      <td>8.715658</td>\n",
              "      <td>3.433736</td>\n",
              "      <td>...</td>\n",
              "      <td>0.452398</td>\n",
              "      <td>0.146328</td>\n",
              "      <td>0.126375</td>\n",
              "      <td>0.473385</td>\n",
              "      <td>0.381151</td>\n",
              "      <td>14.315792</td>\n",
              "      <td>0.268827</td>\n",
              "      <td>111.016545</td>\n",
              "      <td>50.513831</td>\n",
              "      <td>1.368626</td>\n",
              "    </tr>\n",
              "    <tr>\n",
              "      <th>min</th>\n",
              "      <td>2014.0</td>\n",
              "      <td>138554.000000</td>\n",
              "      <td>13264.000000</td>\n",
              "      <td>-5.654437</td>\n",
              "      <td>49.975186</td>\n",
              "      <td>1.000000</td>\n",
              "      <td>1.000000</td>\n",
              "      <td>20.000000</td>\n",
              "      <td>1.000000</td>\n",
              "      <td>1.000000</td>\n",
              "      <td>...</td>\n",
              "      <td>0.000000</td>\n",
              "      <td>0.000000</td>\n",
              "      <td>0.000000</td>\n",
              "      <td>0.000000</td>\n",
              "      <td>0.000000</td>\n",
              "      <td>0.000000</td>\n",
              "      <td>0.000000</td>\n",
              "      <td>0.000000</td>\n",
              "      <td>0.000000</td>\n",
              "      <td>0.000000</td>\n",
              "    </tr>\n",
              "    <tr>\n",
              "      <th>25%</th>\n",
              "      <td>2014.0</td>\n",
              "      <td>385609.000000</td>\n",
              "      <td>176250.000000</td>\n",
              "      <td>-2.215907</td>\n",
              "      <td>51.472859</td>\n",
              "      <td>1.000000</td>\n",
              "      <td>1.000000</td>\n",
              "      <td>30.000000</td>\n",
              "      <td>8.000000</td>\n",
              "      <td>4.000000</td>\n",
              "      <td>...</td>\n",
              "      <td>0.000000</td>\n",
              "      <td>1.000000</td>\n",
              "      <td>1.000000</td>\n",
              "      <td>0.000000</td>\n",
              "      <td>1.000000</td>\n",
              "      <td>5.000000</td>\n",
              "      <td>0.000000</td>\n",
              "      <td>62.000000</td>\n",
              "      <td>46.000000</td>\n",
              "      <td>1.000000</td>\n",
              "    </tr>\n",
              "    <tr>\n",
              "      <th>50%</th>\n",
              "      <td>2014.0</td>\n",
              "      <td>452861.500000</td>\n",
              "      <td>237490.500000</td>\n",
              "      <td>-1.218141</td>\n",
              "      <td>52.023533</td>\n",
              "      <td>2.000000</td>\n",
              "      <td>1.000000</td>\n",
              "      <td>30.000000</td>\n",
              "      <td>15.000000</td>\n",
              "      <td>7.000000</td>\n",
              "      <td>...</td>\n",
              "      <td>0.000000</td>\n",
              "      <td>1.000000</td>\n",
              "      <td>1.000000</td>\n",
              "      <td>0.000000</td>\n",
              "      <td>1.000000</td>\n",
              "      <td>18.000000</td>\n",
              "      <td>0.000000</td>\n",
              "      <td>137.000000</td>\n",
              "      <td>98.000000</td>\n",
              "      <td>2.000000</td>\n",
              "    </tr>\n",
              "    <tr>\n",
              "      <th>75%</th>\n",
              "      <td>2014.0</td>\n",
              "      <td>527240.000000</td>\n",
              "      <td>388858.250000</td>\n",
              "      <td>-0.165357</td>\n",
              "      <td>53.393919</td>\n",
              "      <td>2.000000</td>\n",
              "      <td>1.000000</td>\n",
              "      <td>40.000000</td>\n",
              "      <td>23.000000</td>\n",
              "      <td>10.000000</td>\n",
              "      <td>...</td>\n",
              "      <td>1.000000</td>\n",
              "      <td>1.000000</td>\n",
              "      <td>1.000000</td>\n",
              "      <td>1.000000</td>\n",
              "      <td>1.000000</td>\n",
              "      <td>31.000000</td>\n",
              "      <td>0.000000</td>\n",
              "      <td>257.000000</td>\n",
              "      <td>132.000000</td>\n",
              "      <td>3.000000</td>\n",
              "    </tr>\n",
              "    <tr>\n",
              "      <th>max</th>\n",
              "      <td>2014.0</td>\n",
              "      <td>655309.000000</td>\n",
              "      <td>717054.000000</td>\n",
              "      <td>1.758797</td>\n",
              "      <td>56.323952</td>\n",
              "      <td>9.000000</td>\n",
              "      <td>14.000000</td>\n",
              "      <td>70.000000</td>\n",
              "      <td>31.000000</td>\n",
              "      <td>12.000000</td>\n",
              "      <td>...</td>\n",
              "      <td>1.000000</td>\n",
              "      <td>1.000000</td>\n",
              "      <td>1.000000</td>\n",
              "      <td>1.000000</td>\n",
              "      <td>1.000000</td>\n",
              "      <td>48.000000</td>\n",
              "      <td>1.000000</td>\n",
              "      <td>370.000000</td>\n",
              "      <td>197.000000</td>\n",
              "      <td>4.000000</td>\n",
              "    </tr>\n",
              "  </tbody>\n",
              "</table>\n",
              "<p>8 rows × 61 columns</p>\n",
              "</div>"
            ],
            "text/plain": [
              "       accident_year  location_easting_osgr  location_northing_osgr  \\\n",
              "count       141246.0          141246.000000           141246.000000   \n",
              "mean          2014.0          448435.060426           283647.963142   \n",
              "std              0.0           94486.104531           147157.820722   \n",
              "min           2014.0          138554.000000            13264.000000   \n",
              "25%           2014.0          385609.000000           176250.000000   \n",
              "50%           2014.0          452861.500000           237490.500000   \n",
              "75%           2014.0          527240.000000           388858.250000   \n",
              "max           2014.0          655309.000000           717054.000000   \n",
              "\n",
              "           longitude       latitude  number_of_vehicles  number_of_casualties  \\\n",
              "count  141246.000000  141246.000000       141246.000000         141246.000000   \n",
              "mean       -1.306413      52.440454            1.835648              1.325036   \n",
              "std         1.383973       1.325813            0.685026              0.746866   \n",
              "min        -5.654437      49.975186            1.000000              1.000000   \n",
              "25%        -2.215907      51.472859            1.000000              1.000000   \n",
              "50%        -1.218141      52.023533            2.000000              1.000000   \n",
              "75%        -0.165357      53.393919            2.000000              1.000000   \n",
              "max         1.758797      56.323952            9.000000             14.000000   \n",
              "\n",
              "         speed_limit            day          month  ...  \\\n",
              "count  141246.000000  141246.000000  141246.000000  ...   \n",
              "mean       38.176515      15.510506       6.625703  ...   \n",
              "std        13.813652       8.715658       3.433736  ...   \n",
              "min        20.000000       1.000000       1.000000  ...   \n",
              "25%        30.000000       8.000000       4.000000  ...   \n",
              "50%        30.000000      15.000000       7.000000  ...   \n",
              "75%        40.000000      23.000000      10.000000  ...   \n",
              "max        70.000000      31.000000      12.000000  ...   \n",
              "\n",
              "       road_surface_conditions_Wet or damp  special_conditions_at_site_None  \\\n",
              "count                        141246.000000                    141246.000000   \n",
              "mean                              0.287074                         0.978109   \n",
              "std                               0.452398                         0.146328   \n",
              "min                               0.000000                         0.000000   \n",
              "25%                               0.000000                         1.000000   \n",
              "50%                               0.000000                         1.000000   \n",
              "75%                               1.000000                         1.000000   \n",
              "max                               1.000000                         1.000000   \n",
              "\n",
              "       carriageway_hazards_None  urban_or_rural_area_Rural  \\\n",
              "count             141246.000000              141246.000000   \n",
              "mean                   0.983766                   0.339040   \n",
              "std                    0.126375                   0.473385   \n",
              "min                    0.000000                   0.000000   \n",
              "25%                    1.000000                   0.000000   \n",
              "50%                    1.000000                   0.000000   \n",
              "75%                    1.000000                   1.000000   \n",
              "max                    1.000000                   1.000000   \n",
              "\n",
              "       did_police_officer_attend_scene_of_accident_Yes  police_force_encoding  \\\n",
              "count                                    141246.000000          141246.000000   \n",
              "mean                                          0.823613              18.725529   \n",
              "std                                           0.381151              14.315792   \n",
              "min                                           0.000000               0.000000   \n",
              "25%                                           1.000000               5.000000   \n",
              "50%                                           1.000000              18.000000   \n",
              "75%                                           1.000000              31.000000   \n",
              "max                                           1.000000              48.000000   \n",
              "\n",
              "       trunk_road_flag_Trunk (Roads managed by Highways England)  \\\n",
              "count                                      141246.000000           \n",
              "mean                                            0.078416           \n",
              "std                                             0.268827           \n",
              "min                                             0.000000           \n",
              "25%                                             0.000000           \n",
              "50%                                             0.000000           \n",
              "75%                                             0.000000           \n",
              "max                                             1.000000           \n",
              "\n",
              "       local_authority_district_encoding  local_authority_highway_encoding  \\\n",
              "count                      141246.000000                     141246.000000   \n",
              "mean                          157.859316                         90.584809   \n",
              "std                           111.016545                         50.513831   \n",
              "min                             0.000000                          0.000000   \n",
              "25%                            62.000000                         46.000000   \n",
              "50%                           137.000000                         98.000000   \n",
              "75%                           257.000000                        132.000000   \n",
              "max                           370.000000                        197.000000   \n",
              "\n",
              "       week_number_encoding  \n",
              "count         141246.000000  \n",
              "mean               1.930426  \n",
              "std                1.368626  \n",
              "min                0.000000  \n",
              "25%                1.000000  \n",
              "50%                2.000000  \n",
              "75%                3.000000  \n",
              "max                4.000000  \n",
              "\n",
              "[8 rows x 61 columns]"
            ]
          },
          "execution_count": 264,
          "metadata": {},
          "output_type": "execute_result"
        }
      ],
      "source": [
        "df.describe()"
      ]
    },
    {
      "cell_type": "code",
      "execution_count": 265,
      "metadata": {
        "colab": {
          "base_uri": "https://localhost:8080/"
        },
        "id": "f0v7LAJjCOWm",
        "outputId": "0b5fa635-d8a0-4fcc-aed3-43a8d03135f2"
      },
      "outputs": [
        {
          "data": {
            "text/plain": [
              "141246"
            ]
          },
          "execution_count": 265,
          "metadata": {},
          "output_type": "execute_result"
        }
      ],
      "source": [
        "len(df)\n"
      ]
    },
    {
      "attachments": {},
      "cell_type": "markdown",
      "metadata": {
        "id": "pEZFt6yDDHt8"
      },
      "source": [
        "### longitude"
      ]
    },
    {
      "cell_type": "code",
      "execution_count": 266,
      "metadata": {
        "colab": {
          "base_uri": "https://localhost:8080/"
        },
        "id": "MZWkt-V0Ar1t",
        "outputId": "e97ece23-bfef-4846-fb13-1d0313116c87"
      },
      "outputs": [
        {
          "data": {
            "text/plain": [
              "-0.4632290464246005"
            ]
          },
          "execution_count": 266,
          "metadata": {},
          "output_type": "execute_result"
        }
      ],
      "source": [
        "df.longitude.skew()"
      ]
    },
    {
      "cell_type": "code",
      "execution_count": 267,
      "metadata": {
        "colab": {
          "base_uri": "https://localhost:8080/",
          "height": 279
        },
        "id": "YrqVo4qdWV10",
        "outputId": "fb8a5eb1-93fd-4dad-9ecf-bc93cfba3ed7"
      },
      "outputs": [
        {
          "data": {
            "image/png": "[encoded data removed]",
            "text/plain": [
              "<Figure size 640x480 with 1 Axes>"
            ]
          },
          "metadata": {},
          "output_type": "display_data"
        }
      ],
      "source": [
        "sns.kdeplot(df.longitude)\n",
        "plt.show()"
      ]
    },
    {
      "attachments": {},
      "cell_type": "markdown",
      "metadata": {
        "id": "yNQuoy68DMxz"
      },
      "source": [
        "-0.467 skewness so the feature considered normally distributed"
      ]
    },
    {
      "cell_type": "code",
      "execution_count": null,
      "metadata": {
        "id": "nq823UKmA15i"
      },
      "outputs": [],
      "source": []
    },
    {
      "attachments": {},
      "cell_type": "markdown",
      "metadata": {
        "id": "Y-0qSExYDelb"
      },
      "source": [
        "### latitude"
      ]
    },
    {
      "cell_type": "code",
      "execution_count": 268,
      "metadata": {
        "colab": {
          "base_uri": "https://localhost:8080/"
        },
        "id": "t13F4n7mA54C",
        "outputId": "fd92f0bb-30ca-44a9-83c6-8bc63a9bdcea"
      },
      "outputs": [
        {
          "data": {
            "text/plain": [
              "0.8904421482893198"
            ]
          },
          "execution_count": 268,
          "metadata": {},
          "output_type": "execute_result"
        }
      ],
      "source": [
        "df.latitude.skew()"
      ]
    },
    {
      "cell_type": "code",
      "execution_count": 269,
      "metadata": {
        "colab": {
          "base_uri": "https://localhost:8080/",
          "height": 279
        },
        "id": "5iGxoJ3xA54G",
        "outputId": "154b4ebc-a762-4934-c380-c46c44835689"
      },
      "outputs": [
        {
          "data": {
            "image/png": "[encoded data removed]",
            "text/plain": [
              "<Figure size 640x480 with 1 Axes>"
            ]
          },
          "metadata": {},
          "output_type": "display_data"
        }
      ],
      "source": [
        "sns.kdeplot(df.latitude)\n",
        "plt.show()"
      ]
    },
    {
      "attachments": {},
      "cell_type": "markdown",
      "metadata": {
        "id": "zN-VkHleDsfa"
      },
      "source": [
        "0.89 skewness so the feature considered normally distributed"
      ]
    },
    {
      "cell_type": "code",
      "execution_count": null,
      "metadata": {
        "id": "2SpzeY53A9Qk"
      },
      "outputs": [],
      "source": []
    },
    {
      "attachments": {},
      "cell_type": "markdown",
      "metadata": {
        "id": "kRJozbpCEBsu"
      },
      "source": [
        "### number_of_vehicles"
      ]
    },
    {
      "cell_type": "code",
      "execution_count": 270,
      "metadata": {
        "colab": {
          "base_uri": "https://localhost:8080/"
        },
        "id": "bDM9Cxo4BBsU",
        "outputId": "b7abe8c8-a403-4390-9d71-b2cbe62aebe0"
      },
      "outputs": [
        {
          "data": {
            "text/plain": [
              "1.1798472179508745"
            ]
          },
          "execution_count": 270,
          "metadata": {},
          "output_type": "execute_result"
        }
      ],
      "source": [
        "df.number_of_vehicles.skew()"
      ]
    },
    {
      "cell_type": "code",
      "execution_count": 271,
      "metadata": {
        "colab": {
          "base_uri": "https://localhost:8080/",
          "height": 280
        },
        "id": "Zv63UH2kBBsV",
        "outputId": "7592d6f3-427b-4290-9da9-075694edb1ac"
      },
      "outputs": [
        {
          "data": {
            "image/png": "[encoded data removed]",
            "text/plain": [
              "<Figure size 640x480 with 1 Axes>"
            ]
          },
          "metadata": {},
          "output_type": "display_data"
        }
      ],
      "source": [
        "sns.kdeplot(df.number_of_vehicles)\n",
        "plt.show()"
      ]
    },
    {
      "cell_type": "code",
      "execution_count": 272,
      "metadata": {
        "colab": {
          "base_uri": "https://localhost:8080/",
          "height": 385
        },
        "id": "xmg0YaQcBFrD",
        "outputId": "170d47fe-a114-4b3b-b5ba-3ab37bca2e56"
      },
      "outputs": [
        {
          "name": "stderr",
          "output_type": "stream",
          "text": [
            "c:\\ProgramData\\Anaconda3\\lib\\site-packages\\seaborn\\distributions.py:2619: FutureWarning: `distplot` is a deprecated function and will be removed in a future version. Please adapt your code to use either `displot` (a figure-level function with similar flexibility) or `histplot` (an axes-level function for histograms).\n",
            "  warnings.warn(msg, FutureWarning)\n",
            "c:\\ProgramData\\Anaconda3\\lib\\site-packages\\seaborn\\distributions.py:2619: FutureWarning: `distplot` is a deprecated function and will be removed in a future version. Please adapt your code to use either `displot` (a figure-level function with similar flexibility) or `histplot` (an axes-level function for histograms).\n",
            "  warnings.warn(msg, FutureWarning)\n"
          ]
        },
        {
          "data": {
            "image/png": "[encoded data removed]",
            "text/plain": [
              "<Figure size 640x480 with 2 Axes>"
            ]
          },
          "metadata": {},
          "output_type": "display_data"
        }
      ],
      "source": [
        "df['number_of_vehicles'] = Box_Cox(df,'number_of_vehicles')"
      ]
    },
    {
      "attachments": {},
      "cell_type": "markdown",
      "metadata": {
        "id": "09QRX-zhEGv1"
      },
      "source": [
        "skewness >1 so it needs to be normlized since it is not normal"
      ]
    },
    {
      "cell_type": "code",
      "execution_count": null,
      "metadata": {
        "id": "0CMk17mtBKns"
      },
      "outputs": [],
      "source": []
    },
    {
      "attachments": {},
      "cell_type": "markdown",
      "metadata": {
        "id": "D4mILbKLEL2c"
      },
      "source": [
        "### number_of_casualties"
      ]
    },
    {
      "cell_type": "code",
      "execution_count": 273,
      "metadata": {
        "colab": {
          "base_uri": "https://localhost:8080/"
        },
        "id": "loveq-zTBKvM",
        "outputId": "6e6bc45a-5f54-4f8e-d0f2-61152d9c312a"
      },
      "outputs": [
        {
          "data": {
            "text/plain": [
              "3.371201385124412"
            ]
          },
          "execution_count": 273,
          "metadata": {},
          "output_type": "execute_result"
        }
      ],
      "source": [
        "df.number_of_casualties.skew()"
      ]
    },
    {
      "cell_type": "code",
      "execution_count": 274,
      "metadata": {
        "colab": {
          "base_uri": "https://localhost:8080/",
          "height": 280
        },
        "id": "jLDL0MHKBKvN",
        "outputId": "1f392bfb-0423-4b0f-e29a-a7541e112b26"
      },
      "outputs": [
        {
          "data": {
            "image/png": "[encoded data removed]",
            "text/plain": [
              "<Figure size 640x480 with 1 Axes>"
            ]
          },
          "metadata": {},
          "output_type": "display_data"
        }
      ],
      "source": [
        "sns.kdeplot(df.number_of_casualties)\n",
        "plt.show()"
      ]
    },
    {
      "cell_type": "code",
      "execution_count": 275,
      "metadata": {
        "colab": {
          "base_uri": "https://localhost:8080/",
          "height": 385
        },
        "id": "jhJP-_hyBOt9",
        "outputId": "074f1663-4b5b-43db-c230-c75248c9a7f8"
      },
      "outputs": [
        {
          "name": "stderr",
          "output_type": "stream",
          "text": [
            "c:\\ProgramData\\Anaconda3\\lib\\site-packages\\seaborn\\distributions.py:2619: FutureWarning: `distplot` is a deprecated function and will be removed in a future version. Please adapt your code to use either `displot` (a figure-level function with similar flexibility) or `histplot` (an axes-level function for histograms).\n",
            "  warnings.warn(msg, FutureWarning)\n",
            "c:\\ProgramData\\Anaconda3\\lib\\site-packages\\seaborn\\distributions.py:2619: FutureWarning: `distplot` is a deprecated function and will be removed in a future version. Please adapt your code to use either `displot` (a figure-level function with similar flexibility) or `histplot` (an axes-level function for histograms).\n",
            "  warnings.warn(msg, FutureWarning)\n"
          ]
        },
        {
          "data": {
            "image/png": "[encoded data removed]",
            "text/plain": [
              "<Figure size 640x480 with 2 Axes>"
            ]
          },
          "metadata": {},
          "output_type": "display_data"
        }
      ],
      "source": [
        "df['number_of_casualties'] = Box_Cox(df,'number_of_casualties')"
      ]
    },
    {
      "attachments": {},
      "cell_type": "markdown",
      "metadata": {
        "id": "ShMXIsGnEcA8"
      },
      "source": [
        "skewness >1 so it needs to be normlized since it is not normal"
      ]
    },
    {
      "cell_type": "code",
      "execution_count": null,
      "metadata": {
        "id": "K545SBLGBsHF"
      },
      "outputs": [],
      "source": []
    },
    {
      "attachments": {},
      "cell_type": "markdown",
      "metadata": {
        "id": "QGwV1OwAEeil"
      },
      "source": [
        "### speed_limit"
      ]
    },
    {
      "cell_type": "code",
      "execution_count": 276,
      "metadata": {
        "colab": {
          "base_uri": "https://localhost:8080/"
        },
        "id": "-BP2ypDvBuAL",
        "outputId": "00ca833f-abfc-46fd-d9e4-bcc9c6e2ed81"
      },
      "outputs": [
        {
          "data": {
            "text/plain": [
              "1.2123353599361841"
            ]
          },
          "execution_count": 276,
          "metadata": {},
          "output_type": "execute_result"
        }
      ],
      "source": [
        "df.speed_limit.skew()"
      ]
    },
    {
      "cell_type": "code",
      "execution_count": 277,
      "metadata": {
        "colab": {
          "base_uri": "https://localhost:8080/",
          "height": 280
        },
        "id": "M7MKY5zWBuAN",
        "outputId": "2661e520-70e0-4a8b-b49a-f397fa1c7588"
      },
      "outputs": [
        {
          "data": {
            "image/png": "[encoded data removed]",
            "text/plain": [
              "<Figure size 640x480 with 1 Axes>"
            ]
          },
          "metadata": {},
          "output_type": "display_data"
        }
      ],
      "source": [
        "sns.kdeplot(df.speed_limit)\n",
        "plt.show()"
      ]
    },
    {
      "cell_type": "code",
      "execution_count": 278,
      "metadata": {
        "colab": {
          "base_uri": "https://localhost:8080/",
          "height": 385
        },
        "id": "m08sGglZETjK",
        "outputId": "f6bbbbeb-eee7-4d8b-c1c5-128587b362f8"
      },
      "outputs": [
        {
          "name": "stderr",
          "output_type": "stream",
          "text": [
            "c:\\ProgramData\\Anaconda3\\lib\\site-packages\\seaborn\\distributions.py:2619: FutureWarning: `distplot` is a deprecated function and will be removed in a future version. Please adapt your code to use either `displot` (a figure-level function with similar flexibility) or `histplot` (an axes-level function for histograms).\n",
            "  warnings.warn(msg, FutureWarning)\n",
            "c:\\ProgramData\\Anaconda3\\lib\\site-packages\\seaborn\\distributions.py:2619: FutureWarning: `distplot` is a deprecated function and will be removed in a future version. Please adapt your code to use either `displot` (a figure-level function with similar flexibility) or `histplot` (an axes-level function for histograms).\n",
            "  warnings.warn(msg, FutureWarning)\n"
          ]
        },
        {
          "data": {
            "image/png": "[encoded data removed]",
            "text/plain": [
              "<Figure size 640x480 with 2 Axes>"
            ]
          },
          "metadata": {},
          "output_type": "display_data"
        }
      ],
      "source": [
        "df['speed_limit'] = Box_Cox(df,'speed_limit')"
      ]
    },
    {
      "attachments": {},
      "cell_type": "markdown",
      "metadata": {
        "id": "jpfBCRaBTC69"
      },
      "source": [
        "# Exporting the dataframe to a csv file"
      ]
    },
    {
      "cell_type": "code",
      "execution_count": 279,
      "metadata": {
        "id": "pkdM-bUUTEar"
      },
      "outputs": [],
      "source": [
        "df.to_csv(output_path_csv,index=True)"
      ]
    }
  ],
  "metadata": {
    "colab": {
      "collapsed_sections": [
        "OyuFJnkh3U8l",
        "XK5ixVWq3iGa",
        "GI8avPcE3tEb",
        "VLKa1Q6dLsV3",
        "5JMXLbK2MAlj",
        "73mjkQyLMREM",
        "ga0Q8nmsMxQB",
        "lJVcdYy8M_9U",
        "bIBMatbBNIaH",
        "U3waMDzqNdyG",
        "8lkP_yyLOAGV",
        "KVFkeeCbOV3A",
        "Imya8-qKOi-U",
        "YsYoC7DeO2eU",
        "h_1cwzgkPIfW",
        "Rt6yPMWqkf7k",
        "QX7BtFXml-cH",
        "eseYSv4AVbpd",
        "OgPDseLxV0MZ",
        "5Vqrigne9W0f",
        "zwaa4oEv9sPi",
        "aABS0ziW-Ug1",
        "Smaigbd--yoi",
        "Kcp7AAgn_EM3",
        "2C7ZsJh-_oq8",
        "gdoVZqt_AAGS",
        "evmEJmvzvN2u",
        "WU0dQlGrvT56",
        "v7ErOn8SwKpN",
        "VdLIA017xhXi",
        "BGd6qGbkyn4P",
        "6ZhddLcozaJP",
        "k8fYaWal0MDJ",
        "Xe4gRvIB06kn",
        "_gi_oDrpA9RZ",
        "GMDtYpzrQUPG",
        "Z5kWZdwbQ5aM",
        "mMLLWBJnSHm-",
        "ljDSEX8kSaqI",
        "D8cV-GgETpOh",
        "6b_KHXO_W5Fh",
        "YoBffTC5XBPa",
        "9WBcr3XpXDwY",
        "JkAOsKMXbnGZ",
        "kFWGTUfOrcP9",
        "46qXctHdiD_L",
        "kI4B4BYRi38K",
        "ubeXrLHCj7oK",
        "NpIhHxe5kefo",
        "ZIJtNHMikolm",
        "Q4CFoFVwk8rT",
        "tMyfCN4plUgW",
        "59Isr3Umle98",
        "3qvTlkCnltAL",
        "3jrYzk_rlzti",
        "eUxUjdoEmDgS",
        "9geJYMOrmvU6",
        "4sHU4z-Im7gZ",
        "AlsC-9ZxnDNR",
        "Yqjqx0oZnN1o",
        "ym4_YVkInWzg",
        "8NvKXGyN09GB",
        "5-L0tNGRZ8CO",
        "pEZFt6yDDHt8",
        "Y-0qSExYDelb",
        "kRJozbpCEBsu",
        "D4mILbKLEL2c",
        "QGwV1OwAEeil"
      ],
      "provenance": []
    },
    "kernelspec": {
      "display_name": "Python 3",
      "name": "python3"
    },
    "language_info": {
      "codemirror_mode": {
        "name": "ipython",
        "version": 3
      },
      "file_extension": ".py",
      "mimetype": "text/x-python",
      "name": "python",
      "nbconvert_exporter": "python",
      "pygments_lexer": "ipython3",
      "version": "3.9.13"
    }
  },
  "nbformat": 4,
  "nbformat_minor": 0
}
